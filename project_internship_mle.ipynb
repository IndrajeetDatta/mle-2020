{
 "cells": [
  {
   "cell_type": "markdown",
   "metadata": {
    "id": "lp_axZQrhGQz"
   },
   "source": [
    "\n",
    "# Intro\n"
   ]
  },
  {
   "cell_type": "markdown",
   "metadata": {
    "id": "NvQTANJbO92-"
   },
   "source": [
    "**Notes**\n",
    "\n",
    "The main bulk of the material comes from https://developers.google.com/machine-learning/recommendation/overview/candidate-generation. If you want to go further later, you can take a look at http://nicolas-hug.com/blog/matrix_facto_3. It is absolutely not expected to look at these two links for the interviews  or to complete the test."
   ]
  },
  {
   "cell_type": "markdown",
   "metadata": {
    "id": "fWJwwtLUeGn3"
   },
   "source": [
    "**Context**: \n",
    "\n",
    "We want to build a movies' recommender in order to get new movies to watch during the lock down. We will base our work on a variation of the MovieLens dataset. \n",
    "The data consists of movies seen by the users, some informations about the movies, and some informations about the users. The problem consists in predicting which movies a given user might like.\n",
    "\n",
    "We are presenting you here first a naive approach in order to familarize yourself with the problem and show you how it might be solved.\n",
    "\n",
    "**Task**:\n",
    "\n",
    "The code presented is a first implementation but has a number of shortcomings in its structure and features (more on that in the conclusion). Your task consist in producing a refactoring, so as to be one step closer to a \"clean\" code.\n",
    "\n",
    "**Evaluation**:\n",
    "\n",
    "Our goal here is two fold:\n",
    "- See how you understand a problem and adapt to an already given approach to tackle it.\n",
    "- See how you can design new features.\n",
    "- See how you manipulate python code: understanding, ideas to refactor etc ...\n",
    "\n",
    "The projects will be evaluated on the quality of the source code produced."
   ]
  },
  {
   "cell_type": "markdown",
   "metadata": {
    "id": "C09qoiwchTfd"
   },
   "source": [
    "# The data\n",
    "\n",
    "First, let's load some data."
   ]
  },
  {
   "cell_type": "code",
   "execution_count": 1,
   "metadata": {
    "colab": {
     "base_uri": "https://localhost:8080/",
     "height": 278
    },
    "id": "M4w1EYJrdvVA",
    "outputId": "c53c2a48-ddfc-40c8-e2a1-9130681cfd51"
   },
   "outputs": [
    {
     "name": "stdout",
     "output_type": "stream",
     "text": [
      "(6040, 5)\n"
     ]
    },
    {
     "data": {
      "text/html": [
       "<div>\n",
       "<style scoped>\n",
       "    .dataframe tbody tr th:only-of-type {\n",
       "        vertical-align: middle;\n",
       "    }\n",
       "\n",
       "    .dataframe tbody tr th {\n",
       "        vertical-align: top;\n",
       "    }\n",
       "\n",
       "    .dataframe thead th {\n",
       "        text-align: right;\n",
       "    }\n",
       "</style>\n",
       "<table border=\"1\" class=\"dataframe\">\n",
       "  <thead>\n",
       "    <tr style=\"text-align: right;\">\n",
       "      <th></th>\n",
       "      <th>user_id</th>\n",
       "      <th>gender</th>\n",
       "      <th>age</th>\n",
       "      <th>occupation</th>\n",
       "      <th>zip_code</th>\n",
       "    </tr>\n",
       "  </thead>\n",
       "  <tbody>\n",
       "    <tr>\n",
       "      <th>0</th>\n",
       "      <td>0</td>\n",
       "      <td>F</td>\n",
       "      <td>1</td>\n",
       "      <td>10</td>\n",
       "      <td>48067</td>\n",
       "    </tr>\n",
       "    <tr>\n",
       "      <th>1</th>\n",
       "      <td>1</td>\n",
       "      <td>M</td>\n",
       "      <td>56</td>\n",
       "      <td>16</td>\n",
       "      <td>70072</td>\n",
       "    </tr>\n",
       "    <tr>\n",
       "      <th>2</th>\n",
       "      <td>2</td>\n",
       "      <td>M</td>\n",
       "      <td>25</td>\n",
       "      <td>15</td>\n",
       "      <td>55117</td>\n",
       "    </tr>\n",
       "    <tr>\n",
       "      <th>3</th>\n",
       "      <td>3</td>\n",
       "      <td>M</td>\n",
       "      <td>45</td>\n",
       "      <td>7</td>\n",
       "      <td>02460</td>\n",
       "    </tr>\n",
       "    <tr>\n",
       "      <th>4</th>\n",
       "      <td>4</td>\n",
       "      <td>M</td>\n",
       "      <td>25</td>\n",
       "      <td>20</td>\n",
       "      <td>55455</td>\n",
       "    </tr>\n",
       "  </tbody>\n",
       "</table>\n",
       "</div>"
      ],
      "text/plain": [
       "   user_id gender  age  occupation zip_code\n",
       "0        0      F    1          10    48067\n",
       "1        1      M   56          16    70072\n",
       "2        2      M   25          15    55117\n",
       "3        3      M   45           7    02460\n",
       "4        4      M   25          20    55455"
      ]
     },
     "execution_count": 1,
     "metadata": {},
     "output_type": "execute_result"
    }
   ],
   "source": [
    "import pandas as pd\n",
    "\n",
    "users = pd.read_csv(\"data/users.csv\")\n",
    "print(users.shape)\n",
    "users.head()"
   ]
  },
  {
   "cell_type": "code",
   "execution_count": 2,
   "metadata": {
    "id": "1oGlGDVWfLD5"
   },
   "outputs": [
    {
     "data": {
      "text/html": [
       "<div>\n",
       "<style scoped>\n",
       "    .dataframe tbody tr th:only-of-type {\n",
       "        vertical-align: middle;\n",
       "    }\n",
       "\n",
       "    .dataframe tbody tr th {\n",
       "        vertical-align: top;\n",
       "    }\n",
       "\n",
       "    .dataframe thead th {\n",
       "        text-align: right;\n",
       "    }\n",
       "</style>\n",
       "<table border=\"1\" class=\"dataframe\">\n",
       "  <thead>\n",
       "    <tr style=\"text-align: right;\">\n",
       "      <th></th>\n",
       "      <th>movie_id</th>\n",
       "      <th>title</th>\n",
       "      <th>year</th>\n",
       "      <th>Animation</th>\n",
       "      <th>Children's</th>\n",
       "      <th>Comedy</th>\n",
       "      <th>Adventure</th>\n",
       "      <th>Fantasy</th>\n",
       "      <th>Romance</th>\n",
       "      <th>Drama</th>\n",
       "      <th>...</th>\n",
       "      <th>Crime</th>\n",
       "      <th>Thriller</th>\n",
       "      <th>Horror</th>\n",
       "      <th>Sci-Fi</th>\n",
       "      <th>Documentary</th>\n",
       "      <th>War</th>\n",
       "      <th>Musical</th>\n",
       "      <th>Mystery</th>\n",
       "      <th>Film-Noir</th>\n",
       "      <th>Western</th>\n",
       "    </tr>\n",
       "  </thead>\n",
       "  <tbody>\n",
       "    <tr>\n",
       "      <th>0</th>\n",
       "      <td>0</td>\n",
       "      <td>Toy Story</td>\n",
       "      <td>1995</td>\n",
       "      <td>1.0</td>\n",
       "      <td>1.0</td>\n",
       "      <td>1.0</td>\n",
       "      <td>0.0</td>\n",
       "      <td>0.0</td>\n",
       "      <td>0.0</td>\n",
       "      <td>0.0</td>\n",
       "      <td>...</td>\n",
       "      <td>0.0</td>\n",
       "      <td>0.0</td>\n",
       "      <td>0.0</td>\n",
       "      <td>0.0</td>\n",
       "      <td>0.0</td>\n",
       "      <td>0.0</td>\n",
       "      <td>0.0</td>\n",
       "      <td>0.0</td>\n",
       "      <td>0.0</td>\n",
       "      <td>0.0</td>\n",
       "    </tr>\n",
       "    <tr>\n",
       "      <th>1</th>\n",
       "      <td>1</td>\n",
       "      <td>Jumanji</td>\n",
       "      <td>1995</td>\n",
       "      <td>0.0</td>\n",
       "      <td>1.0</td>\n",
       "      <td>0.0</td>\n",
       "      <td>1.0</td>\n",
       "      <td>1.0</td>\n",
       "      <td>0.0</td>\n",
       "      <td>0.0</td>\n",
       "      <td>...</td>\n",
       "      <td>0.0</td>\n",
       "      <td>0.0</td>\n",
       "      <td>0.0</td>\n",
       "      <td>0.0</td>\n",
       "      <td>0.0</td>\n",
       "      <td>0.0</td>\n",
       "      <td>0.0</td>\n",
       "      <td>0.0</td>\n",
       "      <td>0.0</td>\n",
       "      <td>0.0</td>\n",
       "    </tr>\n",
       "    <tr>\n",
       "      <th>2</th>\n",
       "      <td>2</td>\n",
       "      <td>Grumpier Old Men</td>\n",
       "      <td>1995</td>\n",
       "      <td>0.0</td>\n",
       "      <td>0.0</td>\n",
       "      <td>1.0</td>\n",
       "      <td>0.0</td>\n",
       "      <td>0.0</td>\n",
       "      <td>1.0</td>\n",
       "      <td>0.0</td>\n",
       "      <td>...</td>\n",
       "      <td>0.0</td>\n",
       "      <td>0.0</td>\n",
       "      <td>0.0</td>\n",
       "      <td>0.0</td>\n",
       "      <td>0.0</td>\n",
       "      <td>0.0</td>\n",
       "      <td>0.0</td>\n",
       "      <td>0.0</td>\n",
       "      <td>0.0</td>\n",
       "      <td>0.0</td>\n",
       "    </tr>\n",
       "    <tr>\n",
       "      <th>3</th>\n",
       "      <td>3</td>\n",
       "      <td>Waiting to Exhale</td>\n",
       "      <td>1995</td>\n",
       "      <td>0.0</td>\n",
       "      <td>0.0</td>\n",
       "      <td>1.0</td>\n",
       "      <td>0.0</td>\n",
       "      <td>0.0</td>\n",
       "      <td>0.0</td>\n",
       "      <td>1.0</td>\n",
       "      <td>...</td>\n",
       "      <td>0.0</td>\n",
       "      <td>0.0</td>\n",
       "      <td>0.0</td>\n",
       "      <td>0.0</td>\n",
       "      <td>0.0</td>\n",
       "      <td>0.0</td>\n",
       "      <td>0.0</td>\n",
       "      <td>0.0</td>\n",
       "      <td>0.0</td>\n",
       "      <td>0.0</td>\n",
       "    </tr>\n",
       "    <tr>\n",
       "      <th>4</th>\n",
       "      <td>4</td>\n",
       "      <td>Father of the Bride Part II</td>\n",
       "      <td>1995</td>\n",
       "      <td>0.0</td>\n",
       "      <td>0.0</td>\n",
       "      <td>1.0</td>\n",
       "      <td>0.0</td>\n",
       "      <td>0.0</td>\n",
       "      <td>0.0</td>\n",
       "      <td>0.0</td>\n",
       "      <td>...</td>\n",
       "      <td>0.0</td>\n",
       "      <td>0.0</td>\n",
       "      <td>0.0</td>\n",
       "      <td>0.0</td>\n",
       "      <td>0.0</td>\n",
       "      <td>0.0</td>\n",
       "      <td>0.0</td>\n",
       "      <td>0.0</td>\n",
       "      <td>0.0</td>\n",
       "      <td>0.0</td>\n",
       "    </tr>\n",
       "  </tbody>\n",
       "</table>\n",
       "<p>5 rows × 21 columns</p>\n",
       "</div>"
      ],
      "text/plain": [
       "   movie_id                        title  year  Animation  Children's  Comedy  \\\n",
       "0         0                    Toy Story  1995        1.0         1.0     1.0   \n",
       "1         1                      Jumanji  1995        0.0         1.0     0.0   \n",
       "2         2             Grumpier Old Men  1995        0.0         0.0     1.0   \n",
       "3         3            Waiting to Exhale  1995        0.0         0.0     1.0   \n",
       "4         4  Father of the Bride Part II  1995        0.0         0.0     1.0   \n",
       "\n",
       "   Adventure  Fantasy  Romance  Drama   ...     Crime  Thriller  Horror  \\\n",
       "0        0.0      0.0      0.0    0.0   ...       0.0       0.0     0.0   \n",
       "1        1.0      1.0      0.0    0.0   ...       0.0       0.0     0.0   \n",
       "2        0.0      0.0      1.0    0.0   ...       0.0       0.0     0.0   \n",
       "3        0.0      0.0      0.0    1.0   ...       0.0       0.0     0.0   \n",
       "4        0.0      0.0      0.0    0.0   ...       0.0       0.0     0.0   \n",
       "\n",
       "   Sci-Fi  Documentary  War  Musical  Mystery  Film-Noir  Western  \n",
       "0     0.0          0.0  0.0      0.0      0.0        0.0      0.0  \n",
       "1     0.0          0.0  0.0      0.0      0.0        0.0      0.0  \n",
       "2     0.0          0.0  0.0      0.0      0.0        0.0      0.0  \n",
       "3     0.0          0.0  0.0      0.0      0.0        0.0      0.0  \n",
       "4     0.0          0.0  0.0      0.0      0.0        0.0      0.0  \n",
       "\n",
       "[5 rows x 21 columns]"
      ]
     },
     "execution_count": 2,
     "metadata": {},
     "output_type": "execute_result"
    }
   ],
   "source": [
    "movies = pd.read_csv(\"data/movies.csv\")\n",
    "movies.head()"
   ]
  },
  {
   "cell_type": "code",
   "execution_count": 3,
   "metadata": {
    "id": "f06rRH9OetFc"
   },
   "outputs": [
    {
     "data": {
      "text/html": [
       "<div>\n",
       "<style scoped>\n",
       "    .dataframe tbody tr th:only-of-type {\n",
       "        vertical-align: middle;\n",
       "    }\n",
       "\n",
       "    .dataframe tbody tr th {\n",
       "        vertical-align: top;\n",
       "    }\n",
       "\n",
       "    .dataframe thead th {\n",
       "        text-align: right;\n",
       "    }\n",
       "</style>\n",
       "<table border=\"1\" class=\"dataframe\">\n",
       "  <thead>\n",
       "    <tr style=\"text-align: right;\">\n",
       "      <th></th>\n",
       "      <th>user_id</th>\n",
       "      <th>movie_id</th>\n",
       "      <th>rating</th>\n",
       "    </tr>\n",
       "  </thead>\n",
       "  <tbody>\n",
       "    <tr>\n",
       "      <th>0</th>\n",
       "      <td>0</td>\n",
       "      <td>1176</td>\n",
       "      <td>5</td>\n",
       "    </tr>\n",
       "    <tr>\n",
       "      <th>1</th>\n",
       "      <td>0</td>\n",
       "      <td>655</td>\n",
       "      <td>3</td>\n",
       "    </tr>\n",
       "    <tr>\n",
       "      <th>2</th>\n",
       "      <td>0</td>\n",
       "      <td>902</td>\n",
       "      <td>3</td>\n",
       "    </tr>\n",
       "    <tr>\n",
       "      <th>3</th>\n",
       "      <td>0</td>\n",
       "      <td>3339</td>\n",
       "      <td>4</td>\n",
       "    </tr>\n",
       "    <tr>\n",
       "      <th>4</th>\n",
       "      <td>0</td>\n",
       "      <td>2286</td>\n",
       "      <td>5</td>\n",
       "    </tr>\n",
       "  </tbody>\n",
       "</table>\n",
       "</div>"
      ],
      "text/plain": [
       "   user_id  movie_id  rating\n",
       "0        0      1176       5\n",
       "1        0       655       3\n",
       "2        0       902       3\n",
       "3        0      3339       4\n",
       "4        0      2286       5"
      ]
     },
     "execution_count": 3,
     "metadata": {},
     "output_type": "execute_result"
    }
   ],
   "source": [
    "ratings = pd.read_csv(\"data/ratings.csv\")\n",
    "ratings.head()"
   ]
  },
  {
   "cell_type": "markdown",
   "metadata": {
    "id": "YZVOENCtl83E"
   },
   "source": [
    "# Content-based Filtering\n",
    "\n",
    "Content-based filtering uses item features to recommend other items similar to what the user likes, based on their previous actions or explicit feedback. We dont use other users information !\n",
    "\n",
    "For example, if user `A` liked `Harry Potter 1`, he/she will like `Harry Potter 2`"
   ]
  },
  {
   "cell_type": "code",
   "execution_count": 4,
   "metadata": {
    "colab": {
     "base_uri": "https://localhost:8080/",
     "height": 322
    },
    "id": "FZ4yhO-4Zx15",
    "jupyter": {
     "source_hidden": true
    },
    "outputId": "5739f88e-b73d-497d-928d-3608df9cd724"
   },
   "outputs": [
    {
     "data": {
      "text/html": [
       "<img src='https://miro.medium.com/max/1642/1*BME1JjIlBEAI9BV5pOO5Mg.png' height=\"300\" width=\"250\"/>"
      ],
      "text/plain": [
       "<IPython.core.display.HTML object>"
      ]
     },
     "metadata": {},
     "output_type": "display_data"
    }
   ],
   "source": [
    "%%html\n",
    "<img src='https://miro.medium.com/max/1642/1*BME1JjIlBEAI9BV5pOO5Mg.png' height=\"300\" width=\"250\"/>"
   ]
  },
  {
   "cell_type": "markdown",
   "metadata": {
    "id": "PfVv_CVWagIo"
   },
   "source": [
    "What are similar movies ? In order to answer to this question we need to build a similiarity measure. \n",
    "\n",
    "## Features\n",
    "\n",
    "This measure will operate on the characteristics (**features**) of the movies to determine which are close. In our case, we have access to the genres of the movies. For example, the genres of `Toy Story` are: `Animation`, `Children's` and `Comedy`. This is represented as follow in our dataset:"
   ]
  },
  {
   "cell_type": "code",
   "execution_count": 5,
   "metadata": {
    "id": "1noUwSktbEUJ"
   },
   "outputs": [
    {
     "data": {
      "text/html": [
       "<div>\n",
       "<style scoped>\n",
       "    .dataframe tbody tr th:only-of-type {\n",
       "        vertical-align: middle;\n",
       "    }\n",
       "\n",
       "    .dataframe tbody tr th {\n",
       "        vertical-align: top;\n",
       "    }\n",
       "\n",
       "    .dataframe thead th {\n",
       "        text-align: right;\n",
       "    }\n",
       "</style>\n",
       "<table border=\"1\" class=\"dataframe\">\n",
       "  <thead>\n",
       "    <tr style=\"text-align: right;\">\n",
       "      <th></th>\n",
       "      <th>title</th>\n",
       "      <th>Animation</th>\n",
       "      <th>Children's</th>\n",
       "      <th>Comedy</th>\n",
       "      <th>Adventure</th>\n",
       "      <th>Fantasy</th>\n",
       "      <th>Romance</th>\n",
       "      <th>Drama</th>\n",
       "      <th>Action</th>\n",
       "      <th>Crime</th>\n",
       "      <th>Thriller</th>\n",
       "      <th>Horror</th>\n",
       "      <th>Sci-Fi</th>\n",
       "      <th>Documentary</th>\n",
       "      <th>War</th>\n",
       "      <th>Musical</th>\n",
       "      <th>Mystery</th>\n",
       "      <th>Film-Noir</th>\n",
       "      <th>Western</th>\n",
       "    </tr>\n",
       "  </thead>\n",
       "  <tbody>\n",
       "    <tr>\n",
       "      <th>0</th>\n",
       "      <td>Toy Story</td>\n",
       "      <td>1.0</td>\n",
       "      <td>1.0</td>\n",
       "      <td>1.0</td>\n",
       "      <td>0.0</td>\n",
       "      <td>0.0</td>\n",
       "      <td>0.0</td>\n",
       "      <td>0.0</td>\n",
       "      <td>0.0</td>\n",
       "      <td>0.0</td>\n",
       "      <td>0.0</td>\n",
       "      <td>0.0</td>\n",
       "      <td>0.0</td>\n",
       "      <td>0.0</td>\n",
       "      <td>0.0</td>\n",
       "      <td>0.0</td>\n",
       "      <td>0.0</td>\n",
       "      <td>0.0</td>\n",
       "      <td>0.0</td>\n",
       "    </tr>\n",
       "    <tr>\n",
       "      <th>1</th>\n",
       "      <td>Jumanji</td>\n",
       "      <td>0.0</td>\n",
       "      <td>1.0</td>\n",
       "      <td>0.0</td>\n",
       "      <td>1.0</td>\n",
       "      <td>1.0</td>\n",
       "      <td>0.0</td>\n",
       "      <td>0.0</td>\n",
       "      <td>0.0</td>\n",
       "      <td>0.0</td>\n",
       "      <td>0.0</td>\n",
       "      <td>0.0</td>\n",
       "      <td>0.0</td>\n",
       "      <td>0.0</td>\n",
       "      <td>0.0</td>\n",
       "      <td>0.0</td>\n",
       "      <td>0.0</td>\n",
       "      <td>0.0</td>\n",
       "      <td>0.0</td>\n",
       "    </tr>\n",
       "    <tr>\n",
       "      <th>2</th>\n",
       "      <td>Grumpier Old Men</td>\n",
       "      <td>0.0</td>\n",
       "      <td>0.0</td>\n",
       "      <td>1.0</td>\n",
       "      <td>0.0</td>\n",
       "      <td>0.0</td>\n",
       "      <td>1.0</td>\n",
       "      <td>0.0</td>\n",
       "      <td>0.0</td>\n",
       "      <td>0.0</td>\n",
       "      <td>0.0</td>\n",
       "      <td>0.0</td>\n",
       "      <td>0.0</td>\n",
       "      <td>0.0</td>\n",
       "      <td>0.0</td>\n",
       "      <td>0.0</td>\n",
       "      <td>0.0</td>\n",
       "      <td>0.0</td>\n",
       "      <td>0.0</td>\n",
       "    </tr>\n",
       "    <tr>\n",
       "      <th>3</th>\n",
       "      <td>Waiting to Exhale</td>\n",
       "      <td>0.0</td>\n",
       "      <td>0.0</td>\n",
       "      <td>1.0</td>\n",
       "      <td>0.0</td>\n",
       "      <td>0.0</td>\n",
       "      <td>0.0</td>\n",
       "      <td>1.0</td>\n",
       "      <td>0.0</td>\n",
       "      <td>0.0</td>\n",
       "      <td>0.0</td>\n",
       "      <td>0.0</td>\n",
       "      <td>0.0</td>\n",
       "      <td>0.0</td>\n",
       "      <td>0.0</td>\n",
       "      <td>0.0</td>\n",
       "      <td>0.0</td>\n",
       "      <td>0.0</td>\n",
       "      <td>0.0</td>\n",
       "    </tr>\n",
       "    <tr>\n",
       "      <th>4</th>\n",
       "      <td>Father of the Bride Part II</td>\n",
       "      <td>0.0</td>\n",
       "      <td>0.0</td>\n",
       "      <td>1.0</td>\n",
       "      <td>0.0</td>\n",
       "      <td>0.0</td>\n",
       "      <td>0.0</td>\n",
       "      <td>0.0</td>\n",
       "      <td>0.0</td>\n",
       "      <td>0.0</td>\n",
       "      <td>0.0</td>\n",
       "      <td>0.0</td>\n",
       "      <td>0.0</td>\n",
       "      <td>0.0</td>\n",
       "      <td>0.0</td>\n",
       "      <td>0.0</td>\n",
       "      <td>0.0</td>\n",
       "      <td>0.0</td>\n",
       "      <td>0.0</td>\n",
       "    </tr>\n",
       "  </tbody>\n",
       "</table>\n",
       "</div>"
      ],
      "text/plain": [
       "                         title  Animation  Children's  Comedy  Adventure  \\\n",
       "0                    Toy Story        1.0         1.0     1.0        0.0   \n",
       "1                      Jumanji        0.0         1.0     0.0        1.0   \n",
       "2             Grumpier Old Men        0.0         0.0     1.0        0.0   \n",
       "3            Waiting to Exhale        0.0         0.0     1.0        0.0   \n",
       "4  Father of the Bride Part II        0.0         0.0     1.0        0.0   \n",
       "\n",
       "   Fantasy  Romance  Drama  Action  Crime  Thriller  Horror  Sci-Fi  \\\n",
       "0      0.0      0.0    0.0     0.0    0.0       0.0     0.0     0.0   \n",
       "1      1.0      0.0    0.0     0.0    0.0       0.0     0.0     0.0   \n",
       "2      0.0      1.0    0.0     0.0    0.0       0.0     0.0     0.0   \n",
       "3      0.0      0.0    1.0     0.0    0.0       0.0     0.0     0.0   \n",
       "4      0.0      0.0    0.0     0.0    0.0       0.0     0.0     0.0   \n",
       "\n",
       "   Documentary  War  Musical  Mystery  Film-Noir  Western  \n",
       "0          0.0  0.0      0.0      0.0        0.0      0.0  \n",
       "1          0.0  0.0      0.0      0.0        0.0      0.0  \n",
       "2          0.0  0.0      0.0      0.0        0.0      0.0  \n",
       "3          0.0  0.0      0.0      0.0        0.0      0.0  \n",
       "4          0.0  0.0      0.0      0.0        0.0      0.0  "
      ]
     },
     "execution_count": 5,
     "metadata": {},
     "output_type": "execute_result"
    }
   ],
   "source": [
    "genre_cols = [\"Animation\", \"Children's\", \n",
    "       'Comedy', 'Adventure', 'Fantasy', 'Romance', 'Drama',\n",
    "       'Action', 'Crime', 'Thriller', 'Horror', 'Sci-Fi', 'Documentary', 'War',\n",
    "       'Musical', 'Mystery', 'Film-Noir', 'Western']\n",
    "\n",
    "genre_and_title_cols = ['title'] + genre_cols \n",
    "\n",
    "movies[genre_and_title_cols].head()"
   ]
  },
  {
   "cell_type": "markdown",
   "metadata": {
    "id": "f-jorqHSb8LA"
   },
   "source": [
    "## Similarity\n",
    "\n",
    "Now that we have some features, we will try to find a function that performs a similiarity measure. The Similarity function will take two items (two list of features) and return a number proportional to their similarity. \n",
    "\n",
    "For the following we will consider that the Similarity between two movies is the number of genres they have in common.\n",
    "\n",
    "Here is an example with `Toy Story` and `E.T`"
   ]
  },
  {
   "cell_type": "code",
   "execution_count": 6,
   "metadata": {
    "colab": {
     "base_uri": "https://localhost:8080/"
    },
    "id": "YBBh17Rfc6SJ",
    "outputId": "f854fe57-36b7-4f3c-9c8b-2d3e97726863"
   },
   "outputs": [
    {
     "data": {
      "text/plain": [
       "Animation      1.0\n",
       "Children's     1.0\n",
       "Comedy         1.0\n",
       "Adventure      0.0\n",
       "Fantasy        0.0\n",
       "Romance        0.0\n",
       "Drama          0.0\n",
       "Action         0.0\n",
       "Crime          0.0\n",
       "Thriller       0.0\n",
       "Horror         0.0\n",
       "Sci-Fi         0.0\n",
       "Documentary    0.0\n",
       "War            0.0\n",
       "Musical        0.0\n",
       "Mystery        0.0\n",
       "Film-Noir      0.0\n",
       "Western        0.0\n",
       "Name: 0, dtype: float64"
      ]
     },
     "execution_count": 6,
     "metadata": {},
     "output_type": "execute_result"
    }
   ],
   "source": [
    "toy_story_genres = movies[genre_and_title_cols].loc[movies.title == 'Toy Story'][genre_cols].iloc[0]\n",
    "toy_story_genres"
   ]
  },
  {
   "cell_type": "code",
   "execution_count": 7,
   "metadata": {
    "colab": {
     "base_uri": "https://localhost:8080/"
    },
    "id": "o6ieFMXGb7Rx",
    "outputId": "a30a5499-c875-4ef5-b4f1-9a633064a7a4"
   },
   "outputs": [
    {
     "data": {
      "text/plain": [
       "Animation      0.0\n",
       "Children's     1.0\n",
       "Comedy         0.0\n",
       "Adventure      0.0\n",
       "Fantasy        1.0\n",
       "Romance        0.0\n",
       "Drama          1.0\n",
       "Action         0.0\n",
       "Crime          0.0\n",
       "Thriller       0.0\n",
       "Horror         0.0\n",
       "Sci-Fi         1.0\n",
       "Documentary    0.0\n",
       "War            0.0\n",
       "Musical        0.0\n",
       "Mystery        0.0\n",
       "Film-Noir      0.0\n",
       "Western        0.0\n",
       "Name: 1081, dtype: float64"
      ]
     },
     "execution_count": 7,
     "metadata": {},
     "output_type": "execute_result"
    }
   ],
   "source": [
    "et_genres = movies[genre_and_title_cols].loc[movies.title == 'E.T. the Extra-Terrestrial'][genre_cols].iloc[0]\n",
    "et_genres"
   ]
  },
  {
   "cell_type": "code",
   "execution_count": 8,
   "metadata": {
    "colab": {
     "base_uri": "https://localhost:8080/"
    },
    "id": "BZ82Q6GPYa7J",
    "outputId": "1f223d04-16b6-47c8-d526-6ef2adb90ac8"
   },
   "outputs": [
    {
     "data": {
      "text/plain": [
       "Animation      0.0\n",
       "Children's     1.0\n",
       "Comedy         0.0\n",
       "Adventure      0.0\n",
       "Fantasy        0.0\n",
       "Romance        0.0\n",
       "Drama          0.0\n",
       "Action         0.0\n",
       "Crime          0.0\n",
       "Thriller       0.0\n",
       "Horror         0.0\n",
       "Sci-Fi         0.0\n",
       "Documentary    0.0\n",
       "War            0.0\n",
       "Musical        0.0\n",
       "Mystery        0.0\n",
       "Film-Noir      0.0\n",
       "Western        0.0\n",
       "Name: 0, dtype: float64"
      ]
     },
     "execution_count": 8,
     "metadata": {},
     "output_type": "execute_result"
    }
   ],
   "source": [
    "et_genres.values * toy_story_genres"
   ]
  },
  {
   "cell_type": "code",
   "execution_count": 9,
   "metadata": {
    "colab": {
     "base_uri": "https://localhost:8080/"
    },
    "id": "kqD2q2_Se12z",
    "outputId": "43d355f6-c654-4e2e-cd3c-f852e2fd234f"
   },
   "outputs": [
    {
     "data": {
      "text/plain": [
       "1.0"
      ]
     },
     "execution_count": 9,
     "metadata": {},
     "output_type": "execute_result"
    }
   ],
   "source": [
    "(et_genres.values * toy_story_genres).sum() # scalar product"
   ]
  },
  {
   "cell_type": "markdown",
   "metadata": {},
   "source": [
    "So our similarity measure returns `1.0` for these two movies. \n",
    "\n",
    "Let's see another example where we compare `Toy Stories` and `Pocahontas`"
   ]
  },
  {
   "cell_type": "code",
   "execution_count": 10,
   "metadata": {},
   "outputs": [
    {
     "data": {
      "text/plain": [
       "2.0"
      ]
     },
     "execution_count": 10,
     "metadata": {},
     "output_type": "execute_result"
    }
   ],
   "source": [
    "pocahontas_genres = movies[genre_and_title_cols].loc[movies.title == 'Pocahontas'][genre_cols].iloc[0]\n",
    "(pocahontas_genres.values * toy_story_genres).sum()"
   ]
  },
  {
   "cell_type": "markdown",
   "metadata": {},
   "source": [
    "This tels us that `Pocahontas` is closer to `Toy Stories` than `E.T.` which makes sense.\n"
   ]
  },
  {
   "cell_type": "markdown",
   "metadata": {
    "id": "X8ofE1Saoy0E"
   },
   "source": [
    "## Scaling up\n",
    "\n",
    "Ok, that's a nice measure. Now we are going to scale it up to all movies of our dataset. To do so smartly, let's take a look at the operation we just did, but from a mathematical point of view. To do so, we will think of the list of features of a movie as a vector `V`. Then, our similarity measure between `Toy Story` and `E.T.` becomes:\n",
    "$ V_{ToyStory} \\cdot V_{ET}^{T}$\n",
    "\n",
    "More generally the similarity measure between a movie `i` and another movie `j` is : $ V_{i} \\cdot V_{j}^{T}$\n",
    "\n",
    "Now we can think of `movies` as a matrix containing all features vectors describing the movies. Here is how our similiarity measure looks in this context:"
   ]
  },
  {
   "cell_type": "markdown",
   "metadata": {
    "id": "IhMxm6S1SrPb"
   },
   "source": [
    "![](imgs/dot_product_matrices.png)"
   ]
  },
  {
   "cell_type": "markdown",
   "metadata": {},
   "source": [
    "To obtain the similiarity between all movies of our dataset we have to perform the dot product of the `movies` matrix with the transposed of the `movies` matrix."
   ]
  },
  {
   "cell_type": "code",
   "execution_count": 11,
   "metadata": {
    "colab": {
     "base_uri": "https://localhost:8080/"
    },
    "id": "Sc0c4IOie14q",
    "outputId": "b53c89d7-a1b5-495a-e94e-00df0f144cc6"
   },
   "outputs": [
    {
     "data": {
      "text/plain": [
       "(3883, 3883)"
      ]
     },
     "execution_count": 11,
     "metadata": {},
     "output_type": "execute_result"
    }
   ],
   "source": [
    "similarity = movies[genre_cols].values.dot(movies[genre_cols].values.T)\n",
    "similarity.shape"
   ]
  },
  {
   "cell_type": "markdown",
   "metadata": {},
   "source": [
    "We can now get the similarity between `Toy Story` and any other movie of our dataset"
   ]
  },
  {
   "cell_type": "code",
   "execution_count": 12,
   "metadata": {
    "colab": {
     "base_uri": "https://localhost:8080/"
    },
    "id": "7NQwxobBlJ1N",
    "outputId": "81bd2069-9b05-449e-986c-2608eb04d90b"
   },
   "outputs": [
    {
     "data": {
      "text/plain": [
       "array([3., 1., 1., ..., 0., 0., 0.])"
      ]
     },
     "execution_count": 12,
     "metadata": {},
     "output_type": "execute_result"
    }
   ],
   "source": [
    "similarity_with_toy_story = similarity[0] # 0 is Toy Story\n",
    "similarity_with_toy_story"
   ]
  },
  {
   "cell_type": "code",
   "execution_count": 13,
   "metadata": {
    "colab": {
     "base_uri": "https://localhost:8080/"
    },
    "id": "TpTkvXGflZhc",
    "outputId": "e688d431-2953-419e-a14d-af1428a7e95a"
   },
   "outputs": [
    {
     "name": "stdout",
     "output_type": "stream",
     "text": [
      "Similarity between Toy story and Toy Story (index 0) is 3.0\n",
      "Similarity between Toy story and Jumanji (index 1) is 1.0\n",
      "Similarity between Toy story and Grumpier Old Men (index 2) is 1.0\n",
      "Similarity between Toy story and Waiting to Exhale (index 3) is 1.0\n",
      "Similarity between Toy story and Father of the Bride Part II (index 4) is 1.0\n",
      "Similarity between Toy story and Heat (index 5) is 0.0\n",
      "Similarity between Toy story and Sabrina (index 6) is 1.0\n",
      "Similarity between Toy story and Tom and Huck (index 7) is 1.0\n",
      "Similarity between Toy story and Sudden Death (index 8) is 0.0\n",
      "Similarity between Toy story and GoldenEye (index 9) is 0.0\n"
     ]
    }
   ],
   "source": [
    "for i in range(10):\n",
    "    print(f\"Similarity between Toy story and {movies.iloc[i]['title']} (index {i}) is {similarity_with_toy_story[i]}\")"
   ]
  },
  {
   "cell_type": "markdown",
   "metadata": {},
   "source": [
    "## A bit of polishing"
   ]
  },
  {
   "cell_type": "markdown",
   "metadata": {
    "id": "eGaBP8Y2pCBF"
   },
   "source": [
    "### Helpers:\n",
    "\n",
    "We also built some helpers to handle the movies dataset:"
   ]
  },
  {
   "cell_type": "code",
   "execution_count": 14,
   "metadata": {
    "id": "g1PpvXUOofHE"
   },
   "outputs": [
    {
     "name": "stdout",
     "output_type": "stream",
     "text": [
      "0\n",
      "1023\n",
      "Toy Story\n",
      "Parent Trap, The\n",
      "1961\n"
     ]
    }
   ],
   "source": [
    "from content_based_filtering.helpers.movies import get_movie_id, get_movie_name, get_movie_year\n",
    "    \n",
    "print (get_movie_id(movies, 'Toy Story'))\n",
    "print (get_movie_id(movies, 'Die Hard'))\n",
    "\n",
    "print (get_movie_name(movies, 0))\n",
    "print (get_movie_name(movies, 1000))\n",
    "print (get_movie_year(movies, 1000))"
   ]
  },
  {
   "cell_type": "markdown",
   "metadata": {
    "id": "osEKhTEz2-IR"
   },
   "source": [
    "### Finding similar movies:\n",
    "Here is a method giving us the movie the most similar to another movie:"
   ]
  },
  {
   "cell_type": "code",
   "execution_count": 15,
   "metadata": {
    "id": "KvKxJsLi2858"
   },
   "outputs": [],
   "source": [
    "def get_most_similar(similarity, movie_name, year=None, top=10):\n",
    "    index_movie = get_movie_id(movies, movie_name, year)\n",
    "    best = similarity[index_movie].argsort()[::-1]\n",
    "    return [(ind, get_movie_name(movies, ind), similarity[index_movie, ind]) for ind in best[:top] if ind != index_movie]"
   ]
  },
  {
   "cell_type": "code",
   "execution_count": 16,
   "metadata": {
    "colab": {
     "base_uri": "https://localhost:8080/"
    },
    "id": "McgT_CoxgM8d",
    "outputId": "755202de-fec9-476a-8725-0f04b1869c64"
   },
   "outputs": [
    {
     "data": {
      "text/plain": [
       "[(667, 'Space Jam', 3.0),\n",
       " (3685, 'Adventures of Rocky and Bullwinkle, The', 3.0),\n",
       " (3682, 'Chicken Run', 3.0),\n",
       " (2009, 'Jungle Book, The', 3.0),\n",
       " (2011, 'Lady and the Tramp', 3.0),\n",
       " (2012, 'Little Mermaid, The', 3.0),\n",
       " (2033, 'Steamboat Willie', 3.0),\n",
       " (2072, 'American Tail, An', 3.0),\n",
       " (2073, 'American Tail: Fievel Goes West, An', 3.0)]"
      ]
     },
     "execution_count": 16,
     "metadata": {},
     "output_type": "execute_result"
    }
   ],
   "source": [
    "get_most_similar(similarity, 'Toy Story')"
   ]
  },
  {
   "cell_type": "code",
   "execution_count": 17,
   "metadata": {
    "colab": {
     "base_uri": "https://localhost:8080/"
    },
    "id": "mq_uQJkstgo_",
    "outputId": "20259fc7-e55a-46ed-9efa-7154791cdaec"
   },
   "outputs": [
    {
     "data": {
      "text/plain": [
       "[(3593, \"Puppet Master III: Toulon's Revenge\", 2.0),\n",
       " (2923, 'Rawhead Rex', 2.0),\n",
       " (1312, 'Believers, The', 2.0),\n",
       " (3407, \"Jacob's Ladder\", 2.0),\n",
       " (1957, 'Disturbing Behavior', 2.0),\n",
       " (1927, 'Poltergeist III', 2.0),\n",
       " (1926, 'Poltergeist II: The Other Side', 2.0),\n",
       " (1925, 'Poltergeist', 2.0),\n",
       " (732, 'Thinner', 2.0),\n",
       " (69, 'From Dusk Till Dawn', 2.0)]"
      ]
     },
     "execution_count": 17,
     "metadata": {},
     "output_type": "execute_result"
    }
   ],
   "source": [
    "get_most_similar(similarity, 'Psycho', 1960) "
   ]
  },
  {
   "cell_type": "markdown",
   "metadata": {},
   "source": [
    "### Giving a recommendation:\n",
    "\n",
    "And finally, let's find some movies to recommend based on previously liked movies:"
   ]
  },
  {
   "cell_type": "code",
   "execution_count": 18,
   "metadata": {},
   "outputs": [
    {
     "data": {
      "text/html": [
       "<div>\n",
       "<style scoped>\n",
       "    .dataframe tbody tr th:only-of-type {\n",
       "        vertical-align: middle;\n",
       "    }\n",
       "\n",
       "    .dataframe tbody tr th {\n",
       "        vertical-align: top;\n",
       "    }\n",
       "\n",
       "    .dataframe thead th {\n",
       "        text-align: right;\n",
       "    }\n",
       "</style>\n",
       "<table border=\"1\" class=\"dataframe\">\n",
       "  <thead>\n",
       "    <tr style=\"text-align: right;\">\n",
       "      <th></th>\n",
       "      <th>movie_id</th>\n",
       "      <th>title</th>\n",
       "      <th>similarity</th>\n",
       "    </tr>\n",
       "  </thead>\n",
       "  <tbody>\n",
       "    <tr>\n",
       "      <th>13</th>\n",
       "      <td>773</td>\n",
       "      <td>Hunchback of Notre Dame, The</td>\n",
       "      <td>3.0</td>\n",
       "    </tr>\n",
       "    <tr>\n",
       "      <th>14</th>\n",
       "      <td>1526</td>\n",
       "      <td>Hercules</td>\n",
       "      <td>3.0</td>\n",
       "    </tr>\n",
       "    <tr>\n",
       "      <th>27</th>\n",
       "      <td>2072</td>\n",
       "      <td>American Tail, An</td>\n",
       "      <td>3.0</td>\n",
       "    </tr>\n",
       "    <tr>\n",
       "      <th>26</th>\n",
       "      <td>2033</td>\n",
       "      <td>Steamboat Willie</td>\n",
       "      <td>3.0</td>\n",
       "    </tr>\n",
       "    <tr>\n",
       "      <th>25</th>\n",
       "      <td>2012</td>\n",
       "      <td>Little Mermaid, The</td>\n",
       "      <td>3.0</td>\n",
       "    </tr>\n",
       "  </tbody>\n",
       "</table>\n",
       "</div>"
      ],
      "text/plain": [
       "    movie_id                         title  similarity\n",
       "13       773  Hunchback of Notre Dame, The         3.0\n",
       "14      1526                      Hercules         3.0\n",
       "27      2072             American Tail, An         3.0\n",
       "26      2033              Steamboat Willie         3.0\n",
       "25      2012           Little Mermaid, The         3.0"
      ]
     },
     "execution_count": 18,
     "metadata": {},
     "output_type": "execute_result"
    }
   ],
   "source": [
    "def get_recommendations(user_id):\n",
    "    top_movies = ratings[ratings['user_id'] == user_id].sort_values(by='rating', ascending=False).head(3)['movie_id']\n",
    "    index=['movie_id', 'title', 'similarity']\n",
    "\n",
    "    most_similars = []\n",
    "    for top_movie in top_movies:\n",
    "        most_similars += get_most_similar(similarity, get_movie_name(movies, top_movie), get_movie_year(movies, top_movie))\n",
    "\n",
    "    return pd.DataFrame(most_similars, columns=index).drop_duplicates().sort_values(by='similarity', ascending=False).head(5)\n",
    "\n",
    "get_recommendations(0)\n"
   ]
  },
  {
   "cell_type": "code",
   "execution_count": 19,
   "metadata": {},
   "outputs": [
    {
     "data": {
      "text/html": [
       "<div>\n",
       "<style scoped>\n",
       "    .dataframe tbody tr th:only-of-type {\n",
       "        vertical-align: middle;\n",
       "    }\n",
       "\n",
       "    .dataframe tbody tr th {\n",
       "        vertical-align: top;\n",
       "    }\n",
       "\n",
       "    .dataframe thead th {\n",
       "        text-align: right;\n",
       "    }\n",
       "</style>\n",
       "<table border=\"1\" class=\"dataframe\">\n",
       "  <thead>\n",
       "    <tr style=\"text-align: right;\">\n",
       "      <th></th>\n",
       "      <th>movie_id</th>\n",
       "      <th>title</th>\n",
       "      <th>similarity</th>\n",
       "    </tr>\n",
       "  </thead>\n",
       "  <tbody>\n",
       "    <tr>\n",
       "      <th>0</th>\n",
       "      <td>166</td>\n",
       "      <td>First Knight</td>\n",
       "      <td>2.0</td>\n",
       "    </tr>\n",
       "    <tr>\n",
       "      <th>2</th>\n",
       "      <td>1451</td>\n",
       "      <td>Smilla's Sense of Snow</td>\n",
       "      <td>2.0</td>\n",
       "    </tr>\n",
       "    <tr>\n",
       "      <th>3</th>\n",
       "      <td>503</td>\n",
       "      <td>Perfect World, A</td>\n",
       "      <td>2.0</td>\n",
       "    </tr>\n",
       "    <tr>\n",
       "      <th>4</th>\n",
       "      <td>3197</td>\n",
       "      <td>Man Bites Dog (C'est arriv� pr�s de chez vous)</td>\n",
       "      <td>2.0</td>\n",
       "    </tr>\n",
       "    <tr>\n",
       "      <th>5</th>\n",
       "      <td>1458</td>\n",
       "      <td>Devil's Own, The</td>\n",
       "      <td>2.0</td>\n",
       "    </tr>\n",
       "  </tbody>\n",
       "</table>\n",
       "</div>"
      ],
      "text/plain": [
       "   movie_id                                           title  similarity\n",
       "0       166                                    First Knight         2.0\n",
       "2      1451                          Smilla's Sense of Snow         2.0\n",
       "3       503                                Perfect World, A         2.0\n",
       "4      3197  Man Bites Dog (C'est arriv� pr�s de chez vous)         2.0\n",
       "5      1458                                Devil's Own, The         2.0"
      ]
     },
     "execution_count": 19,
     "metadata": {},
     "output_type": "execute_result"
    }
   ],
   "source": [
    "get_recommendations(999)"
   ]
  },
  {
   "cell_type": "markdown",
   "metadata": {
    "id": "BOeXGuBqt-j1"
   },
   "source": [
    "# Conclusion:\n",
    "\n",
    "The code presented is a first implementation but has a number of shortcomings preventing the collaboration of multiple MLE and Data Scientists:\n",
    "- It is not possible to introduce easily new features mainly because the code is just a bunch of functions in one file.\n",
    "- The code can not be scaled to other datasets or variations of the tasks.\n",
    "- There is no evaluation of the performances.\n",
    "- There is no testing\n",
    "\n",
    "Additionaly a number we could think of some features to add, for example, what about looking at similar users to find a recommendation for our targeted user ?"
   ]
  },
  {
   "cell_type": "markdown",
   "metadata": {},
   "source": [
    "# Cosine Similarity\n",
    "#### This part is edited by Indrajeet Datta\n"
   ]
  },
  {
   "cell_type": "markdown",
   "metadata": {},
   "source": [
    "Although the methods used in the original implementation work fine, the similarity is compared by measuring the scalar product. Although in the scarlar product implementation, the product is not normalized. i.e. the product value can be any number. We usually do not want that to happen. So, instead, I used cosine similarity matrix method from sklearn which gives a cosine similarity value between 0 and 1."
   ]
  },
  {
   "cell_type": "code",
   "execution_count": 50,
   "metadata": {},
   "outputs": [],
   "source": [
    "from sklearn.metrics.pairwise import cosine_similarity"
   ]
  },
  {
   "cell_type": "markdown",
   "metadata": {},
   "source": [
    "But before applying cosine similarity, I defined some functions that will help up get our recommeded movies."
   ]
  },
  {
   "cell_type": "markdown",
   "metadata": {},
   "source": [
    "The function below get_favourite_movies_by_users takes in a user_id value as parameter and finds the first 5 movies that the user rated as rating 5. Those movies are surely favorite movies of the user."
   ]
  },
  {
   "cell_type": "code",
   "execution_count": 51,
   "metadata": {},
   "outputs": [],
   "source": [
    "def get_favourite_movies_by_users(user_id):\n",
    "    favourite_movies = ratings[(ratings[\"rating\"] == 5) & (ratings[\"user_id\"] == user_id)][\"movie_id\"].tolist()[0:5]\n",
    "    return favourite_movies"
   ]
  },
  {
   "cell_type": "markdown",
   "metadata": {},
   "source": [
    "Next, I defined a function called get_topfive_similar_movies which takes in a movie_id and the cosine similarity matrix of the movies as a parameter and returns a list containing 5 movies that are most similar to the movie inputted."
   ]
  },
  {
   "cell_type": "code",
   "execution_count": 52,
   "metadata": {},
   "outputs": [],
   "source": [
    "def get_topfive_similar_movies(movie_id, cosine_sim_mat):\n",
    "    similar_movies = list(enumerate(cosine_sim_mat[movie_id]))\n",
    "    top_ten_similar_movies = [i[0] for i in sorted(similar_movies, key=lambda x:x[1], reverse=True)[1:6]]\n",
    "    return top_ten_similar_movies"
   ]
  },
  {
   "cell_type": "markdown",
   "metadata": {},
   "source": [
    "Next, I defined a function called get_topfive_similar_users which takes in a user_id and the cosine similarity matrix of the users as a parameter and returns a list containing 5 users that are most similar to the user inputted."
   ]
  },
  {
   "cell_type": "code",
   "execution_count": 53,
   "metadata": {},
   "outputs": [],
   "source": [
    "def get_topfive_similar_users(user_id, cosine_sim_mat):\n",
    "    similar_users = list(enumerate(cosine_sim_mat[user_id]))\n",
    "    top_ten_similar_users = [i[0] for i in sorted(similar_users, key=lambda x:x[1], reverse=True)[1:6]]\n",
    "    return top_ten_similar_users"
   ]
  },
  {
   "cell_type": "markdown",
   "metadata": {},
   "source": [
    "Next, I defined a function called get_recommended_movies which takes in user_id and the cosine similarity matrices of movies and users as parameters then for the given user it first finds all the users favourite movies using get_favourite_movies_by_users method defined earlier. Then, for each movie that was found from the previous method, it finds 5 similar movies by using the the get_topfive_similar_movies method defined earlier. Next it finds, 5 users that are similart to the given user by using the get_topfive_similar_users method and then for each similar user found, it finds the 5 favourite movies for each of those users by using the get_favourite_movies_by_users method. It then appends the movies similar to the favourited movies and the movies favourited by the user similar to the given user into a list of movie_ids and returns the list. \n",
    "\n",
    "\n",
    "The idea is that if a user favoutited certain movies, then the probability of the liking the movies that are similar to the favourited movies by the user is high. Also, the favourited movies of the users similar to the user is also high. So "
   ]
  },
  {
   "cell_type": "code",
   "execution_count": 54,
   "metadata": {},
   "outputs": [],
   "source": [
    "def get_recommended_movies(user_id, cosine_sim_movies, cosine_sim_users):\n",
    "    recommended_movies = []\n",
    "    favorite_movies = get_favourite_movies_by_users(user_id)\n",
    "    #print(\"Favourite movies of user: \", favorite_movies)\n",
    "    for movie in favorite_movies:\n",
    "        similar_movies = get_topfive_similar_movies(movie, cosine_sim_movies)\n",
    "        #print(\"Movies similar to\", movie, \" : \", similar_movies)\n",
    "        recommended_movies.extend(similar_movies)\n",
    "    similar_users = get_topfive_similar_users(user_id, cosine_sim_users)\n",
    "    #print(\"Users similar to user: \", similar_users)\n",
    "    for user in similar_users:\n",
    "        fav_movs = get_favourite_movies_by_users(user_id)\n",
    "        #print(\"Favourite Movies of user: \", user, \" : \", fav_movies)\n",
    "        recommended_movies.extend(fav_movs)\n",
    "    recommended_movies = list(set(recommended_movies))\n",
    "    return recommended_movies"
   ]
  },
  {
   "cell_type": "markdown",
   "metadata": {},
   "source": [
    "Now, looking at the users dataframe, we can see that there are certain features that are not helpful in their raw form. For example the age column is much more useful if it is categorized. So, next, I categorized the age column into different age groups and added a new column which determines tha age group."
   ]
  },
  {
   "cell_type": "code",
   "execution_count": 55,
   "metadata": {},
   "outputs": [],
   "source": [
    "if \"age-group\" in users:\n",
    "    users = users.drop([\"age-group\"], axis=1)\n",
    "idx = users.columns.get_loc('age')\n",
    "\n",
    "b1 = [0, 10, 20, 30, 40, 50, 60, 70, 80, 90, 100]\n",
    "l1 = ['Children', 'Teenagers', '20s','30s', '40s', '50s', '60s', '70s', '80s', '90s']\n",
    "s1 = pd.cut(users['age'], bins=b1, labels=l1)\n",
    "\n",
    "users.insert(idx + 1, 'age-group', s1)"
   ]
  },
  {
   "cell_type": "code",
   "execution_count": 56,
   "metadata": {},
   "outputs": [],
   "source": [
    "import math"
   ]
  },
  {
   "cell_type": "markdown",
   "metadata": {},
   "source": [
    "Another feature that needs to be modified is the zip_code columns. Since, mostly, no two users will have the exact zip-code, it is not very helpful. Although, if we say the first two characters of the zip-code determines a region, we can only use the first two columns to determine the zip code of the user. So, accordingly, I added a new column called \"zip-firsttwo\" which only stores the first two digits of the zip code."
   ]
  },
  {
   "cell_type": "code",
   "execution_count": 57,
   "metadata": {},
   "outputs": [],
   "source": [
    "users['zip-firsttwo'] = users['zip_code'].str[0:2]"
   ]
  },
  {
   "cell_type": "code",
   "execution_count": 58,
   "metadata": {},
   "outputs": [
    {
     "data": {
      "text/html": [
       "<div>\n",
       "<style scoped>\n",
       "    .dataframe tbody tr th:only-of-type {\n",
       "        vertical-align: middle;\n",
       "    }\n",
       "\n",
       "    .dataframe tbody tr th {\n",
       "        vertical-align: top;\n",
       "    }\n",
       "\n",
       "    .dataframe thead th {\n",
       "        text-align: right;\n",
       "    }\n",
       "</style>\n",
       "<table border=\"1\" class=\"dataframe\">\n",
       "  <thead>\n",
       "    <tr style=\"text-align: right;\">\n",
       "      <th></th>\n",
       "      <th>user_id</th>\n",
       "      <th>gender</th>\n",
       "      <th>age</th>\n",
       "      <th>age-group</th>\n",
       "      <th>occupation</th>\n",
       "      <th>zip_code</th>\n",
       "      <th>zip-firsttwo</th>\n",
       "    </tr>\n",
       "  </thead>\n",
       "  <tbody>\n",
       "    <tr>\n",
       "      <th>0</th>\n",
       "      <td>0</td>\n",
       "      <td>F</td>\n",
       "      <td>1</td>\n",
       "      <td>Children</td>\n",
       "      <td>10</td>\n",
       "      <td>48067</td>\n",
       "      <td>48</td>\n",
       "    </tr>\n",
       "    <tr>\n",
       "      <th>1</th>\n",
       "      <td>1</td>\n",
       "      <td>M</td>\n",
       "      <td>56</td>\n",
       "      <td>50s</td>\n",
       "      <td>16</td>\n",
       "      <td>70072</td>\n",
       "      <td>70</td>\n",
       "    </tr>\n",
       "    <tr>\n",
       "      <th>2</th>\n",
       "      <td>2</td>\n",
       "      <td>M</td>\n",
       "      <td>25</td>\n",
       "      <td>20s</td>\n",
       "      <td>15</td>\n",
       "      <td>55117</td>\n",
       "      <td>55</td>\n",
       "    </tr>\n",
       "    <tr>\n",
       "      <th>3</th>\n",
       "      <td>3</td>\n",
       "      <td>M</td>\n",
       "      <td>45</td>\n",
       "      <td>40s</td>\n",
       "      <td>7</td>\n",
       "      <td>02460</td>\n",
       "      <td>02</td>\n",
       "    </tr>\n",
       "    <tr>\n",
       "      <th>4</th>\n",
       "      <td>4</td>\n",
       "      <td>M</td>\n",
       "      <td>25</td>\n",
       "      <td>20s</td>\n",
       "      <td>20</td>\n",
       "      <td>55455</td>\n",
       "      <td>55</td>\n",
       "    </tr>\n",
       "  </tbody>\n",
       "</table>\n",
       "</div>"
      ],
      "text/plain": [
       "   user_id gender  age age-group  occupation zip_code zip-firsttwo\n",
       "0        0      F    1  Children          10    48067           48\n",
       "1        1      M   56       50s          16    70072           70\n",
       "2        2      M   25       20s          15    55117           55\n",
       "3        3      M   45       40s           7    02460           02\n",
       "4        4      M   25       20s          20    55455           55"
      ]
     },
     "execution_count": 58,
     "metadata": {},
     "output_type": "execute_result"
    }
   ],
   "source": [
    "users.head()"
   ]
  },
  {
   "cell_type": "markdown",
   "metadata": {},
   "source": [
    "Below, we can see that we have reduced the number of unique zip features from 3439 to only 100. So, if we categorize the user based on the first two digits of the zip code, we only get 100 categorizations which is much more helpful."
   ]
  },
  {
   "cell_type": "code",
   "execution_count": 59,
   "metadata": {},
   "outputs": [
    {
     "name": "stdout",
     "output_type": "stream",
     "text": [
      "3439\n",
      "100\n"
     ]
    }
   ],
   "source": [
    "print(users[\"zip_code\"].unique().size)\n",
    "print(users[\"zip-firsttwo\"].unique().size)"
   ]
  },
  {
   "cell_type": "markdown",
   "metadata": {},
   "source": [
    "Next, I imported LabelBinarizer library from sklearn which helps to give values of 0 or 1 for each unique category in a column of dataframe."
   ]
  },
  {
   "cell_type": "code",
   "execution_count": 60,
   "metadata": {},
   "outputs": [],
   "source": [
    "from sklearn.preprocessing import LabelBinarizer"
   ]
  },
  {
   "cell_type": "code",
   "execution_count": 61,
   "metadata": {},
   "outputs": [],
   "source": [
    "lb = LabelBinarizer()"
   ]
  },
  {
   "cell_type": "code",
   "execution_count": 62,
   "metadata": {},
   "outputs": [],
   "source": [
    "lb_gender = lb.fit_transform(users[\"gender\"])\n",
    "lb_ageGroup = lb.fit_transform(users[\"age-group\"])\n",
    "lb_occupation = lb.fit_transform(users[\"occupation\"])\n",
    "lb_zipcode = lb.fit_transform(users[\"zip-firsttwo\"])"
   ]
  },
  {
   "cell_type": "code",
   "execution_count": 63,
   "metadata": {},
   "outputs": [
    {
     "name": "stdout",
     "output_type": "stream",
     "text": [
      "Label Binarized zip-firsttwo: \n",
      " [[0 0 0 ... 0 0 0]\n",
      " [0 0 0 ... 0 0 0]\n",
      " [0 0 0 ... 0 0 0]\n",
      " ...\n",
      " [0 0 0 ... 0 0 0]\n",
      " [0 1 0 ... 0 0 0]\n",
      " [0 0 0 ... 0 0 0]]\n",
      "\n",
      "lb_zipcode shape:  (6040, 100)\n"
     ]
    }
   ],
   "source": [
    "print(\"Label Binarized zip-firsttwo: \\n\", lb_zipcode)\n",
    "print()\n",
    "print(\"lb_zipcode shape: \", lb_zipcode.shape)"
   ]
  },
  {
   "cell_type": "markdown",
   "metadata": {},
   "source": [
    "We can see above that LabelBinarizer created a list of lists in which each eleement being a 100 vector list containing 0s for all other values and 1 for the value which matches the zip code. That means each zip code is transformed into a size 100 vector with 99 0s and one 1."
   ]
  },
  {
   "cell_type": "code",
   "execution_count": 64,
   "metadata": {},
   "outputs": [],
   "source": [
    "import scipy\n",
    "import numpy as np"
   ]
  },
  {
   "cell_type": "markdown",
   "metadata": {},
   "source": [
    "Now we horizontally stack all the outputs acquired from LabelBinarizer earlier."
   ]
  },
  {
   "cell_type": "code",
   "execution_count": 65,
   "metadata": {},
   "outputs": [],
   "source": [
    "user_features = np.hstack([lb_gender, lb_ageGroup, lb_occupation, lb_zipcode])"
   ]
  },
  {
   "cell_type": "code",
   "execution_count": 66,
   "metadata": {},
   "outputs": [
    {
     "name": "stdout",
     "output_type": "stream",
     "text": [
      "[[0 0 0 ... 0 0 0]\n",
      " [1 0 0 ... 0 0 0]\n",
      " [1 1 0 ... 0 0 0]\n",
      " ...\n",
      " [0 0 0 ... 0 0 0]\n",
      " [0 0 0 ... 0 0 0]\n",
      " [1 1 0 ... 0 0 0]]\n"
     ]
    }
   ],
   "source": [
    "print(user_features)"
   ]
  },
  {
   "cell_type": "markdown",
   "metadata": {},
   "source": [
    "\"user_features\" contains list of features for each user in the form of 1s and 0s. These lists are quite good for calculating our cosine similarity matrix for similar users."
   ]
  },
  {
   "cell_type": "markdown",
   "metadata": {},
   "source": [
    "We can get the movies features according to the genres very easily as it is already categorized in the movies dataframe"
   ]
  },
  {
   "cell_type": "code",
   "execution_count": 67,
   "metadata": {},
   "outputs": [],
   "source": [
    "movie_features = movies[genre_cols].values"
   ]
  },
  {
   "cell_type": "markdown",
   "metadata": {},
   "source": [
    "Now I calculated the cosine matrices for similarity of users and similarity of movies using the cosine_similarity function used on the user_features and movie_features matrices acquired earlier."
   ]
  },
  {
   "cell_type": "code",
   "execution_count": 68,
   "metadata": {},
   "outputs": [],
   "source": [
    "cosine_sim_users = cosine_similarity(user_features)"
   ]
  },
  {
   "cell_type": "code",
   "execution_count": 69,
   "metadata": {},
   "outputs": [],
   "source": [
    "cosine_sim_movies = cosine_similarity(movie_features)"
   ]
  },
  {
   "cell_type": "markdown",
   "metadata": {},
   "source": [
    "Now, I can input a user_id and the cosine similarity matrices for users and movies to get the list of recommended movies using the function recommended_movies defined earlier."
   ]
  },
  {
   "cell_type": "code",
   "execution_count": 70,
   "metadata": {},
   "outputs": [],
   "source": [
    "user_id = 0\n",
    "recommended_movies = get_recommended_movies(user_id, cosine_sim_movies, cosine_sim_users)"
   ]
  },
  {
   "cell_type": "markdown",
   "metadata": {},
   "source": [
    "Next, I loop through the recommended list outputted ealier for the user with user_id = 0 and print the names of the movies by using the helper function get_movie_name()"
   ]
  },
  {
   "cell_type": "code",
   "execution_count": 76,
   "metadata": {},
   "outputs": [
    {
     "name": "stdout",
     "output_type": "stream",
     "text": [
      "Hunchback of Notre Dame, The\n",
      "James and the Giant Peach\n",
      "Knightriders\n",
      "American Tail: Fievel Goes West, An\n",
      "Aladdin and the King of Thieves\n",
      "American Tail, An\n",
      "Othello\n",
      "Now and Then\n",
      "Shanghai Triad (Yao a yao yao dao waipo qiao)\n",
      "Dangerous Minds\n",
      "One Flew Over the Cuckoo's Nest\n",
      "Dead Man Walking\n",
      "First Knight\n",
      "To Die For\n",
      "Christmas Story, A\n",
      "Karate Kid, Part II, The\n",
      "Karate Kid III, The\n",
      "Kicking and Screaming\n",
      "Big Bully\n",
      "Snow White and the Seven Dwarfs\n",
      "Beauty and the Beast\n",
      "Last Summer in the Hamptons\n",
      "Nobody Loves Me (Keiner liebt mich)\n",
      "Rugrats Movie, The\n",
      "Bug's Life, A\n",
      "All Dogs Go to Heaven 2\n",
      "Ben-Hur\n",
      "Emerald Forest, The\n"
     ]
    }
   ],
   "source": [
    "for movie in recommended_movies:\n",
    "    print(get_movie_name(movies, movie))"
   ]
  },
  {
   "cell_type": "markdown",
   "metadata": {},
   "source": [
    "Next, we cam loop through all the user_ids stored in the dataframe and find the lists of recommended movies for each of the users and then store it as a column in the dataframe itself "
   ]
  },
  {
   "cell_type": "code",
   "execution_count": 77,
   "metadata": {},
   "outputs": [],
   "source": [
    "movies_recommended = []\n",
    "for user_id in users[\"user_id\"]:\n",
    "    recommended_movie_ids = get_recommended_movies(user_id, cosine_sim_movies, cosine_sim_users)\n",
    "    movies_recommended.append(recommended_movie_ids)"
   ]
  },
  {
   "cell_type": "code",
   "execution_count": 78,
   "metadata": {},
   "outputs": [],
   "source": [
    "users[\"movies_recommended_cosine_similarity\"] = movies_recommended"
   ]
  },
  {
   "cell_type": "code",
   "execution_count": 79,
   "metadata": {},
   "outputs": [
    {
     "data": {
      "text/html": [
       "<div>\n",
       "<style scoped>\n",
       "    .dataframe tbody tr th:only-of-type {\n",
       "        vertical-align: middle;\n",
       "    }\n",
       "\n",
       "    .dataframe tbody tr th {\n",
       "        vertical-align: top;\n",
       "    }\n",
       "\n",
       "    .dataframe thead th {\n",
       "        text-align: right;\n",
       "    }\n",
       "</style>\n",
       "<table border=\"1\" class=\"dataframe\">\n",
       "  <thead>\n",
       "    <tr style=\"text-align: right;\">\n",
       "      <th></th>\n",
       "      <th>user_id</th>\n",
       "      <th>gender</th>\n",
       "      <th>age</th>\n",
       "      <th>age-group</th>\n",
       "      <th>occupation</th>\n",
       "      <th>zip_code</th>\n",
       "      <th>zip-firsttwo</th>\n",
       "      <th>movies_recommended_cosine_similarity</th>\n",
       "    </tr>\n",
       "  </thead>\n",
       "  <tbody>\n",
       "    <tr>\n",
       "      <th>0</th>\n",
       "      <td>0</td>\n",
       "      <td>F</td>\n",
       "      <td>1</td>\n",
       "      <td>Children</td>\n",
       "      <td>10</td>\n",
       "      <td>48067</td>\n",
       "      <td>48</td>\n",
       "      <td>[773, 655, 3736, 2073, 1050, 2072, 25, 26, 29,...</td>\n",
       "    </tr>\n",
       "    <tr>\n",
       "      <th>1</th>\n",
       "      <td>1</td>\n",
       "      <td>M</td>\n",
       "      <td>56</td>\n",
       "      <td>50s</td>\n",
       "      <td>16</td>\n",
       "      <td>70072</td>\n",
       "      <td>70</td>\n",
       "      <td>[387, 518, 2199, 280, 24, 26, 25, 29, 30, 287,...</td>\n",
       "    </tr>\n",
       "    <tr>\n",
       "      <th>2</th>\n",
       "      <td>2</td>\n",
       "      <td>M</td>\n",
       "      <td>25</td>\n",
       "      <td>20s</td>\n",
       "      <td>15</td>\n",
       "      <td>55117</td>\n",
       "      <td>55</td>\n",
       "      <td>[257, 3, 9, 18, 543, 37, 1573, 1063, 171, 44, ...</td>\n",
       "    </tr>\n",
       "    <tr>\n",
       "      <th>3</th>\n",
       "      <td>3</td>\n",
       "      <td>M</td>\n",
       "      <td>45</td>\n",
       "      <td>40s</td>\n",
       "      <td>7</td>\n",
       "      <td>02460</td>\n",
       "      <td>02</td>\n",
       "      <td>[257, 518, 1545, 25, 26, 1180, 29, 30, 799, 92...</td>\n",
       "    </tr>\n",
       "    <tr>\n",
       "      <th>4</th>\n",
       "      <td>4</td>\n",
       "      <td>M</td>\n",
       "      <td>25</td>\n",
       "      <td>20s</td>\n",
       "      <td>20</td>\n",
       "      <td>55455</td>\n",
       "      <td>55</td>\n",
       "      <td>[641, 1159, 1033, 523, 18, 24, 153, 665, 26, 2...</td>\n",
       "    </tr>\n",
       "    <tr>\n",
       "      <th>5</th>\n",
       "      <td>5</td>\n",
       "      <td>F</td>\n",
       "      <td>50</td>\n",
       "      <td>40s</td>\n",
       "      <td>9</td>\n",
       "      <td>55117</td>\n",
       "      <td>55</td>\n",
       "      <td>[773, 6, 14, 655, 1179, 926, 2336, 2337, 548, ...</td>\n",
       "    </tr>\n",
       "    <tr>\n",
       "      <th>6</th>\n",
       "      <td>6</td>\n",
       "      <td>M</td>\n",
       "      <td>35</td>\n",
       "      <td>30s</td>\n",
       "      <td>1</td>\n",
       "      <td>06810</td>\n",
       "      <td>06</td>\n",
       "      <td>[1024, 1550, 788, 283, 285, 2847, 543, 1568, 1...</td>\n",
       "    </tr>\n",
       "    <tr>\n",
       "      <th>7</th>\n",
       "      <td>7</td>\n",
       "      <td>M</td>\n",
       "      <td>25</td>\n",
       "      <td>20s</td>\n",
       "      <td>12</td>\n",
       "      <td>11413</td>\n",
       "      <td>11</td>\n",
       "      <td>[387, 644, 1550, 280, 24, 26, 25, 29, 30, 285,...</td>\n",
       "    </tr>\n",
       "    <tr>\n",
       "      <th>8</th>\n",
       "      <td>8</td>\n",
       "      <td>M</td>\n",
       "      <td>25</td>\n",
       "      <td>20s</td>\n",
       "      <td>17</td>\n",
       "      <td>61614</td>\n",
       "      <td>61</td>\n",
       "      <td>[1024, 0, 517, 653, 2072, 2073, 1050, 283, 683...</td>\n",
       "    </tr>\n",
       "    <tr>\n",
       "      <th>9</th>\n",
       "      <td>9</td>\n",
       "      <td>F</td>\n",
       "      <td>35</td>\n",
       "      <td>30s</td>\n",
       "      <td>1</td>\n",
       "      <td>95370</td>\n",
       "      <td>95</td>\n",
       "      <td>[2048, 6, 1286, 1543, 2056, 24, 25, 26, 29, 30...</td>\n",
       "    </tr>\n",
       "    <tr>\n",
       "      <th>10</th>\n",
       "      <td>10</td>\n",
       "      <td>F</td>\n",
       "      <td>25</td>\n",
       "      <td>20s</td>\n",
       "      <td>1</td>\n",
       "      <td>04093</td>\n",
       "      <td>04</td>\n",
       "      <td>[14, 18, 1179, 2336, 2337, 674, 548, 37, 44, 5...</td>\n",
       "    </tr>\n",
       "    <tr>\n",
       "      <th>11</th>\n",
       "      <td>11</td>\n",
       "      <td>M</td>\n",
       "      <td>25</td>\n",
       "      <td>20s</td>\n",
       "      <td>12</td>\n",
       "      <td>32793</td>\n",
       "      <td>32</td>\n",
       "      <td>[907, 911, 1554, 25, 26, 1180, 29, 30, 799, 92...</td>\n",
       "    </tr>\n",
       "    <tr>\n",
       "      <th>12</th>\n",
       "      <td>12</td>\n",
       "      <td>M</td>\n",
       "      <td>45</td>\n",
       "      <td>40s</td>\n",
       "      <td>1</td>\n",
       "      <td>93304</td>\n",
       "      <td>93</td>\n",
       "      <td>[1024, 1178, 283, 1180, 799, 928, 1192, 683, 1...</td>\n",
       "    </tr>\n",
       "    <tr>\n",
       "      <th>13</th>\n",
       "      <td>13</td>\n",
       "      <td>M</td>\n",
       "      <td>35</td>\n",
       "      <td>30s</td>\n",
       "      <td>0</td>\n",
       "      <td>60126</td>\n",
       "      <td>60</td>\n",
       "      <td>[641, 130, 387, 2693, 523, 18, 790, 22, 280, 1...</td>\n",
       "    </tr>\n",
       "    <tr>\n",
       "      <th>14</th>\n",
       "      <td>14</td>\n",
       "      <td>M</td>\n",
       "      <td>25</td>\n",
       "      <td>20s</td>\n",
       "      <td>7</td>\n",
       "      <td>22903</td>\n",
       "      <td>22</td>\n",
       "      <td>[98, 3684, 518, 1222, 1096, 1545, 108, 109, 78...</td>\n",
       "    </tr>\n",
       "    <tr>\n",
       "      <th>15</th>\n",
       "      <td>15</td>\n",
       "      <td>F</td>\n",
       "      <td>35</td>\n",
       "      <td>30s</td>\n",
       "      <td>0</td>\n",
       "      <td>20670</td>\n",
       "      <td>20</td>\n",
       "      <td>[6, 2325, 2072, 2073, 1050, 283, 25, 26, 29, 3...</td>\n",
       "    </tr>\n",
       "    <tr>\n",
       "      <th>16</th>\n",
       "      <td>16</td>\n",
       "      <td>M</td>\n",
       "      <td>50</td>\n",
       "      <td>40s</td>\n",
       "      <td>1</td>\n",
       "      <td>95350</td>\n",
       "      <td>95</td>\n",
       "      <td>[2048, 1286, 1543, 1163, 12, 1168, 1939, 280, ...</td>\n",
       "    </tr>\n",
       "    <tr>\n",
       "      <th>17</th>\n",
       "      <td>17</td>\n",
       "      <td>F</td>\n",
       "      <td>18</td>\n",
       "      <td>Teenagers</td>\n",
       "      <td>3</td>\n",
       "      <td>95825</td>\n",
       "      <td>95</td>\n",
       "      <td>[3724, 2830, 143, 401, 19, 290, 3875, 2728, 43...</td>\n",
       "    </tr>\n",
       "    <tr>\n",
       "      <th>18</th>\n",
       "      <td>18</td>\n",
       "      <td>M</td>\n",
       "      <td>1</td>\n",
       "      <td>Children</td>\n",
       "      <td>10</td>\n",
       "      <td>48073</td>\n",
       "      <td>48</td>\n",
       "      <td>[6, 12, 143, 19, 1171, 38, 2728, 175, 310, 210...</td>\n",
       "    </tr>\n",
       "    <tr>\n",
       "      <th>19</th>\n",
       "      <td>19</td>\n",
       "      <td>M</td>\n",
       "      <td>25</td>\n",
       "      <td>20s</td>\n",
       "      <td>14</td>\n",
       "      <td>55113</td>\n",
       "      <td>55</td>\n",
       "      <td>[1024, 517, 518, 653, 401, 281, 283, 683, 46, ...</td>\n",
       "    </tr>\n",
       "    <tr>\n",
       "      <th>20</th>\n",
       "      <td>20</td>\n",
       "      <td>M</td>\n",
       "      <td>18</td>\n",
       "      <td>Teenagers</td>\n",
       "      <td>16</td>\n",
       "      <td>99353</td>\n",
       "      <td>99</td>\n",
       "      <td>[0, 14, 1178, 668, 28, 799, 3360, 1192, 43, 12...</td>\n",
       "    </tr>\n",
       "    <tr>\n",
       "      <th>21</th>\n",
       "      <td>21</td>\n",
       "      <td>M</td>\n",
       "      <td>18</td>\n",
       "      <td>Teenagers</td>\n",
       "      <td>15</td>\n",
       "      <td>53706</td>\n",
       "      <td>53</td>\n",
       "      <td>[1159, 18, 25, 665, 26, 29, 30, 35, 37, 1061, ...</td>\n",
       "    </tr>\n",
       "    <tr>\n",
       "      <th>22</th>\n",
       "      <td>22</td>\n",
       "      <td>M</td>\n",
       "      <td>35</td>\n",
       "      <td>30s</td>\n",
       "      <td>0</td>\n",
       "      <td>90049</td>\n",
       "      <td>90</td>\n",
       "      <td>[130, 6, 18, 22, 2456, 1178, 37, 38, 1192, 171...</td>\n",
       "    </tr>\n",
       "    <tr>\n",
       "      <th>23</th>\n",
       "      <td>23</td>\n",
       "      <td>F</td>\n",
       "      <td>25</td>\n",
       "      <td>20s</td>\n",
       "      <td>7</td>\n",
       "      <td>10023</td>\n",
       "      <td>10</td>\n",
       "      <td>[641, 523, 2063, 1176, 153, 25, 26, 1180, 29, ...</td>\n",
       "    </tr>\n",
       "    <tr>\n",
       "      <th>24</th>\n",
       "      <td>24</td>\n",
       "      <td>M</td>\n",
       "      <td>18</td>\n",
       "      <td>Teenagers</td>\n",
       "      <td>4</td>\n",
       "      <td>01609</td>\n",
       "      <td>01</td>\n",
       "      <td>[18, 1178, 1180, 799, 928, 37, 1192, 171, 51, ...</td>\n",
       "    </tr>\n",
       "    <tr>\n",
       "      <th>25</th>\n",
       "      <td>25</td>\n",
       "      <td>M</td>\n",
       "      <td>25</td>\n",
       "      <td>20s</td>\n",
       "      <td>7</td>\n",
       "      <td>23112</td>\n",
       "      <td>23</td>\n",
       "      <td>[3, 4, 18, 24, 25, 26, 29, 30, 2077, 34, 35, 3...</td>\n",
       "    </tr>\n",
       "    <tr>\n",
       "      <th>26</th>\n",
       "      <td>26</td>\n",
       "      <td>M</td>\n",
       "      <td>25</td>\n",
       "      <td>20s</td>\n",
       "      <td>11</td>\n",
       "      <td>19130</td>\n",
       "      <td>19</td>\n",
       "      <td>[641, 1283, 523, 18, 153, 1056, 929, 162, 37, ...</td>\n",
       "    </tr>\n",
       "    <tr>\n",
       "      <th>27</th>\n",
       "      <td>27</td>\n",
       "      <td>F</td>\n",
       "      <td>25</td>\n",
       "      <td>20s</td>\n",
       "      <td>1</td>\n",
       "      <td>14607</td>\n",
       "      <td>14</td>\n",
       "      <td>[14, 2063, 789, 25, 26, 1179, 1178, 29, 30, 79...</td>\n",
       "    </tr>\n",
       "    <tr>\n",
       "      <th>28</th>\n",
       "      <td>28</td>\n",
       "      <td>M</td>\n",
       "      <td>35</td>\n",
       "      <td>30s</td>\n",
       "      <td>7</td>\n",
       "      <td>33407</td>\n",
       "      <td>33</td>\n",
       "      <td>[1024, 3458, 3337, 143, 19, 25, 26, 283, 1180,...</td>\n",
       "    </tr>\n",
       "    <tr>\n",
       "      <th>29</th>\n",
       "      <td>29</td>\n",
       "      <td>F</td>\n",
       "      <td>35</td>\n",
       "      <td>30s</td>\n",
       "      <td>7</td>\n",
       "      <td>19143</td>\n",
       "      <td>19</td>\n",
       "      <td>[641, 517, 1160, 523, 653, 18, 153, 25, 26, 29...</td>\n",
       "    </tr>\n",
       "    <tr>\n",
       "      <th>...</th>\n",
       "      <td>...</td>\n",
       "      <td>...</td>\n",
       "      <td>...</td>\n",
       "      <td>...</td>\n",
       "      <td>...</td>\n",
       "      <td>...</td>\n",
       "      <td>...</td>\n",
       "      <td>...</td>\n",
       "    </tr>\n",
       "    <tr>\n",
       "      <th>6010</th>\n",
       "      <td>6010</td>\n",
       "      <td>M</td>\n",
       "      <td>35</td>\n",
       "      <td>30s</td>\n",
       "      <td>15</td>\n",
       "      <td>80538</td>\n",
       "      <td>80</td>\n",
       "      <td>[1024, 385, 0, 900, 908, 1166, 2072, 2073, 105...</td>\n",
       "    </tr>\n",
       "    <tr>\n",
       "      <th>6011</th>\n",
       "      <td>6011</td>\n",
       "      <td>M</td>\n",
       "      <td>35</td>\n",
       "      <td>30s</td>\n",
       "      <td>15</td>\n",
       "      <td>02871</td>\n",
       "      <td>02</td>\n",
       "      <td>[]</td>\n",
       "    </tr>\n",
       "    <tr>\n",
       "      <th>6012</th>\n",
       "      <td>6012</td>\n",
       "      <td>F</td>\n",
       "      <td>25</td>\n",
       "      <td>20s</td>\n",
       "      <td>20</td>\n",
       "      <td>32301</td>\n",
       "      <td>32</td>\n",
       "      <td>[0, 773, 655, 2072, 2073, 1050, 547, 1077, 197...</td>\n",
       "    </tr>\n",
       "    <tr>\n",
       "      <th>6013</th>\n",
       "      <td>6013</td>\n",
       "      <td>M</td>\n",
       "      <td>45</td>\n",
       "      <td>40s</td>\n",
       "      <td>1</td>\n",
       "      <td>80634</td>\n",
       "      <td>80</td>\n",
       "      <td>[896, 902, 912, 3107, 2603, 686, 1072, 1840, 6...</td>\n",
       "    </tr>\n",
       "    <tr>\n",
       "      <th>6014</th>\n",
       "      <td>6014</td>\n",
       "      <td>F</td>\n",
       "      <td>25</td>\n",
       "      <td>20s</td>\n",
       "      <td>9</td>\n",
       "      <td>80013</td>\n",
       "      <td>80</td>\n",
       "      <td>[0, 18, 2072, 2073, 1050, 37, 44, 47, 51, 62, ...</td>\n",
       "    </tr>\n",
       "    <tr>\n",
       "      <th>6015</th>\n",
       "      <td>6015</td>\n",
       "      <td>M</td>\n",
       "      <td>45</td>\n",
       "      <td>40s</td>\n",
       "      <td>1</td>\n",
       "      <td>37209</td>\n",
       "      <td>37</td>\n",
       "      <td>[897, 2953, 907, 18, 1554, 25, 26, 29, 30, 799...</td>\n",
       "    </tr>\n",
       "    <tr>\n",
       "      <th>6016</th>\n",
       "      <td>6016</td>\n",
       "      <td>F</td>\n",
       "      <td>35</td>\n",
       "      <td>30s</td>\n",
       "      <td>7</td>\n",
       "      <td>21117</td>\n",
       "      <td>21</td>\n",
       "      <td>[3339, 139, 18, 920, 793, 26, 25, 285, 30, 29,...</td>\n",
       "    </tr>\n",
       "    <tr>\n",
       "      <th>6017</th>\n",
       "      <td>6017</td>\n",
       "      <td>M</td>\n",
       "      <td>35</td>\n",
       "      <td>30s</td>\n",
       "      <td>1</td>\n",
       "      <td>48906</td>\n",
       "      <td>48</td>\n",
       "      <td>[896, 385, 900, 518, 2951, 908, 1166, 1057, 10...</td>\n",
       "    </tr>\n",
       "    <tr>\n",
       "      <th>6018</th>\n",
       "      <td>6018</td>\n",
       "      <td>M</td>\n",
       "      <td>25</td>\n",
       "      <td>20s</td>\n",
       "      <td>0</td>\n",
       "      <td>10024</td>\n",
       "      <td>10</td>\n",
       "      <td>[3200, 517, 653, 913, 25, 26, 668, 28, 29, 30,...</td>\n",
       "    </tr>\n",
       "    <tr>\n",
       "      <th>6019</th>\n",
       "      <td>6019</td>\n",
       "      <td>M</td>\n",
       "      <td>50</td>\n",
       "      <td>40s</td>\n",
       "      <td>16</td>\n",
       "      <td>10023</td>\n",
       "      <td>10</td>\n",
       "      <td>[901, 518, 3336, 916, 3349, 918, 1055, 930, 33...</td>\n",
       "    </tr>\n",
       "    <tr>\n",
       "      <th>6020</th>\n",
       "      <td>6020</td>\n",
       "      <td>M</td>\n",
       "      <td>25</td>\n",
       "      <td>20s</td>\n",
       "      <td>12</td>\n",
       "      <td>08876</td>\n",
       "      <td>08</td>\n",
       "      <td>[257, 18, 3352, 25, 26, 1176, 1178, 29, 30, 35...</td>\n",
       "    </tr>\n",
       "    <tr>\n",
       "      <th>6021</th>\n",
       "      <td>6021</td>\n",
       "      <td>M</td>\n",
       "      <td>25</td>\n",
       "      <td>20s</td>\n",
       "      <td>17</td>\n",
       "      <td>57006</td>\n",
       "      <td>57</td>\n",
       "      <td>[0, 257, 387, 280, 2072, 26, 2073, 1050, 29, 3...</td>\n",
       "    </tr>\n",
       "    <tr>\n",
       "      <th>6022</th>\n",
       "      <td>6022</td>\n",
       "      <td>M</td>\n",
       "      <td>25</td>\n",
       "      <td>20s</td>\n",
       "      <td>0</td>\n",
       "      <td>43213</td>\n",
       "      <td>43</td>\n",
       "      <td>[5, 518, 14, 143, 19, 1179, 2335, 2336, 2209, ...</td>\n",
       "    </tr>\n",
       "    <tr>\n",
       "      <th>6023</th>\n",
       "      <td>6023</td>\n",
       "      <td>M</td>\n",
       "      <td>25</td>\n",
       "      <td>20s</td>\n",
       "      <td>12</td>\n",
       "      <td>53705</td>\n",
       "      <td>53</td>\n",
       "      <td>[1024, 3339, 14, 25, 26, 1179, 283, 285, 29, 3...</td>\n",
       "    </tr>\n",
       "    <tr>\n",
       "      <th>6024</th>\n",
       "      <td>6024</td>\n",
       "      <td>F</td>\n",
       "      <td>25</td>\n",
       "      <td>20s</td>\n",
       "      <td>1</td>\n",
       "      <td>32607</td>\n",
       "      <td>32</td>\n",
       "      <td>[0, 773, 6, 655, 403, 2072, 2073, 1050, 1312, ...</td>\n",
       "    </tr>\n",
       "    <tr>\n",
       "      <th>6025</th>\n",
       "      <td>6025</td>\n",
       "      <td>M</td>\n",
       "      <td>35</td>\n",
       "      <td>30s</td>\n",
       "      <td>6</td>\n",
       "      <td>11210</td>\n",
       "      <td>11</td>\n",
       "      <td>[257, 1159, 911, 912, 665, 25, 26, 1178, 29, 3...</td>\n",
       "    </tr>\n",
       "    <tr>\n",
       "      <th>6026</th>\n",
       "      <td>6026</td>\n",
       "      <td>M</td>\n",
       "      <td>18</td>\n",
       "      <td>Teenagers</td>\n",
       "      <td>4</td>\n",
       "      <td>20742</td>\n",
       "      <td>20</td>\n",
       "      <td>[6, 1807, 2064, 18, 1171, 2196, 1818, 283, 669...</td>\n",
       "    </tr>\n",
       "    <tr>\n",
       "      <th>6027</th>\n",
       "      <td>6027</td>\n",
       "      <td>M</td>\n",
       "      <td>18</td>\n",
       "      <td>Teenagers</td>\n",
       "      <td>4</td>\n",
       "      <td>94133</td>\n",
       "      <td>94</td>\n",
       "      <td>[1024, 262, 1545, 14, 788, 24, 283, 543, 161, ...</td>\n",
       "    </tr>\n",
       "    <tr>\n",
       "      <th>6028</th>\n",
       "      <td>6028</td>\n",
       "      <td>F</td>\n",
       "      <td>25</td>\n",
       "      <td>20s</td>\n",
       "      <td>1</td>\n",
       "      <td>23185</td>\n",
       "      <td>23</td>\n",
       "      <td>[130, 3474, 659, 3476, 3477, 22, 25, 26, 29, 3...</td>\n",
       "    </tr>\n",
       "    <tr>\n",
       "      <th>6029</th>\n",
       "      <td>6029</td>\n",
       "      <td>M</td>\n",
       "      <td>25</td>\n",
       "      <td>20s</td>\n",
       "      <td>17</td>\n",
       "      <td>32618</td>\n",
       "      <td>32</td>\n",
       "      <td>[1024, 2048, 1539, 1286, 1159, 1543, 912, 3348...</td>\n",
       "    </tr>\n",
       "    <tr>\n",
       "      <th>6030</th>\n",
       "      <td>6030</td>\n",
       "      <td>F</td>\n",
       "      <td>18</td>\n",
       "      <td>Teenagers</td>\n",
       "      <td>0</td>\n",
       "      <td>45123</td>\n",
       "      <td>45</td>\n",
       "      <td>[2048, 1024, 388, 1286, 1543, 7, 144, 1556, 28...</td>\n",
       "    </tr>\n",
       "    <tr>\n",
       "      <th>6031</th>\n",
       "      <td>6031</td>\n",
       "      <td>M</td>\n",
       "      <td>45</td>\n",
       "      <td>40s</td>\n",
       "      <td>7</td>\n",
       "      <td>55108</td>\n",
       "      <td>55</td>\n",
       "      <td>[385, 898, 900, 773, 901, 908, 1166, 655, 24, ...</td>\n",
       "    </tr>\n",
       "    <tr>\n",
       "      <th>6032</th>\n",
       "      <td>6032</td>\n",
       "      <td>M</td>\n",
       "      <td>50</td>\n",
       "      <td>40s</td>\n",
       "      <td>13</td>\n",
       "      <td>78232</td>\n",
       "      <td>78</td>\n",
       "      <td>[1539, 518, 3335, 788, 1176, 25, 26, 29, 30, 5...</td>\n",
       "    </tr>\n",
       "    <tr>\n",
       "      <th>6033</th>\n",
       "      <td>6033</td>\n",
       "      <td>M</td>\n",
       "      <td>25</td>\n",
       "      <td>20s</td>\n",
       "      <td>14</td>\n",
       "      <td>94117</td>\n",
       "      <td>94</td>\n",
       "      <td>[3265, 930, 162, 280, 901, 1575, 1163, 1228, 1...</td>\n",
       "    </tr>\n",
       "    <tr>\n",
       "      <th>6034</th>\n",
       "      <td>6034</td>\n",
       "      <td>F</td>\n",
       "      <td>25</td>\n",
       "      <td>20s</td>\n",
       "      <td>1</td>\n",
       "      <td>78734</td>\n",
       "      <td>78</td>\n",
       "      <td>[256, 387, 1159, 147, 21, 280, 665, 287, 2338,...</td>\n",
       "    </tr>\n",
       "    <tr>\n",
       "      <th>6035</th>\n",
       "      <td>6035</td>\n",
       "      <td>F</td>\n",
       "      <td>25</td>\n",
       "      <td>20s</td>\n",
       "      <td>15</td>\n",
       "      <td>32603</td>\n",
       "      <td>32</td>\n",
       "      <td>[1024, 130, 4, 773, 655, 18, 22, 283, 2590, 68...</td>\n",
       "    </tr>\n",
       "    <tr>\n",
       "      <th>6036</th>\n",
       "      <td>6036</td>\n",
       "      <td>F</td>\n",
       "      <td>45</td>\n",
       "      <td>40s</td>\n",
       "      <td>1</td>\n",
       "      <td>76006</td>\n",
       "      <td>76</td>\n",
       "      <td>[898, 912, 3107, 2603, 686, 1840, 1468, 60, 12...</td>\n",
       "    </tr>\n",
       "    <tr>\n",
       "      <th>6037</th>\n",
       "      <td>6037</td>\n",
       "      <td>F</td>\n",
       "      <td>56</td>\n",
       "      <td>50s</td>\n",
       "      <td>1</td>\n",
       "      <td>14706</td>\n",
       "      <td>14</td>\n",
       "      <td>[0, 385, 900, 908, 1166, 18, 24, 3360, 34, 37,...</td>\n",
       "    </tr>\n",
       "    <tr>\n",
       "      <th>6038</th>\n",
       "      <td>6038</td>\n",
       "      <td>F</td>\n",
       "      <td>45</td>\n",
       "      <td>40s</td>\n",
       "      <td>0</td>\n",
       "      <td>01060</td>\n",
       "      <td>01</td>\n",
       "      <td>[3, 901, 6, 904, 2968, 930, 38, 44, 686, 3637,...</td>\n",
       "    </tr>\n",
       "    <tr>\n",
       "      <th>6039</th>\n",
       "      <td>6039</td>\n",
       "      <td>M</td>\n",
       "      <td>25</td>\n",
       "      <td>20s</td>\n",
       "      <td>6</td>\n",
       "      <td>11106</td>\n",
       "      <td>11</td>\n",
       "      <td>[385, 900, 901, 6, 904, 908, 1166, 790, 930, 3...</td>\n",
       "    </tr>\n",
       "  </tbody>\n",
       "</table>\n",
       "<p>6040 rows × 8 columns</p>\n",
       "</div>"
      ],
      "text/plain": [
       "      user_id gender  age  age-group  occupation zip_code zip-firsttwo  \\\n",
       "0           0      F    1   Children          10    48067           48   \n",
       "1           1      M   56        50s          16    70072           70   \n",
       "2           2      M   25        20s          15    55117           55   \n",
       "3           3      M   45        40s           7    02460           02   \n",
       "4           4      M   25        20s          20    55455           55   \n",
       "5           5      F   50        40s           9    55117           55   \n",
       "6           6      M   35        30s           1    06810           06   \n",
       "7           7      M   25        20s          12    11413           11   \n",
       "8           8      M   25        20s          17    61614           61   \n",
       "9           9      F   35        30s           1    95370           95   \n",
       "10         10      F   25        20s           1    04093           04   \n",
       "11         11      M   25        20s          12    32793           32   \n",
       "12         12      M   45        40s           1    93304           93   \n",
       "13         13      M   35        30s           0    60126           60   \n",
       "14         14      M   25        20s           7    22903           22   \n",
       "15         15      F   35        30s           0    20670           20   \n",
       "16         16      M   50        40s           1    95350           95   \n",
       "17         17      F   18  Teenagers           3    95825           95   \n",
       "18         18      M    1   Children          10    48073           48   \n",
       "19         19      M   25        20s          14    55113           55   \n",
       "20         20      M   18  Teenagers          16    99353           99   \n",
       "21         21      M   18  Teenagers          15    53706           53   \n",
       "22         22      M   35        30s           0    90049           90   \n",
       "23         23      F   25        20s           7    10023           10   \n",
       "24         24      M   18  Teenagers           4    01609           01   \n",
       "25         25      M   25        20s           7    23112           23   \n",
       "26         26      M   25        20s          11    19130           19   \n",
       "27         27      F   25        20s           1    14607           14   \n",
       "28         28      M   35        30s           7    33407           33   \n",
       "29         29      F   35        30s           7    19143           19   \n",
       "...       ...    ...  ...        ...         ...      ...          ...   \n",
       "6010     6010      M   35        30s          15    80538           80   \n",
       "6011     6011      M   35        30s          15    02871           02   \n",
       "6012     6012      F   25        20s          20    32301           32   \n",
       "6013     6013      M   45        40s           1    80634           80   \n",
       "6014     6014      F   25        20s           9    80013           80   \n",
       "6015     6015      M   45        40s           1    37209           37   \n",
       "6016     6016      F   35        30s           7    21117           21   \n",
       "6017     6017      M   35        30s           1    48906           48   \n",
       "6018     6018      M   25        20s           0    10024           10   \n",
       "6019     6019      M   50        40s          16    10023           10   \n",
       "6020     6020      M   25        20s          12    08876           08   \n",
       "6021     6021      M   25        20s          17    57006           57   \n",
       "6022     6022      M   25        20s           0    43213           43   \n",
       "6023     6023      M   25        20s          12    53705           53   \n",
       "6024     6024      F   25        20s           1    32607           32   \n",
       "6025     6025      M   35        30s           6    11210           11   \n",
       "6026     6026      M   18  Teenagers           4    20742           20   \n",
       "6027     6027      M   18  Teenagers           4    94133           94   \n",
       "6028     6028      F   25        20s           1    23185           23   \n",
       "6029     6029      M   25        20s          17    32618           32   \n",
       "6030     6030      F   18  Teenagers           0    45123           45   \n",
       "6031     6031      M   45        40s           7    55108           55   \n",
       "6032     6032      M   50        40s          13    78232           78   \n",
       "6033     6033      M   25        20s          14    94117           94   \n",
       "6034     6034      F   25        20s           1    78734           78   \n",
       "6035     6035      F   25        20s          15    32603           32   \n",
       "6036     6036      F   45        40s           1    76006           76   \n",
       "6037     6037      F   56        50s           1    14706           14   \n",
       "6038     6038      F   45        40s           0    01060           01   \n",
       "6039     6039      M   25        20s           6    11106           11   \n",
       "\n",
       "                   movies_recommended_cosine_similarity  \n",
       "0     [773, 655, 3736, 2073, 1050, 2072, 25, 26, 29,...  \n",
       "1     [387, 518, 2199, 280, 24, 26, 25, 29, 30, 287,...  \n",
       "2     [257, 3, 9, 18, 543, 37, 1573, 1063, 171, 44, ...  \n",
       "3     [257, 518, 1545, 25, 26, 1180, 29, 30, 799, 92...  \n",
       "4     [641, 1159, 1033, 523, 18, 24, 153, 665, 26, 2...  \n",
       "5     [773, 6, 14, 655, 1179, 926, 2336, 2337, 548, ...  \n",
       "6     [1024, 1550, 788, 283, 285, 2847, 543, 1568, 1...  \n",
       "7     [387, 644, 1550, 280, 24, 26, 25, 29, 30, 285,...  \n",
       "8     [1024, 0, 517, 653, 2072, 2073, 1050, 283, 683...  \n",
       "9     [2048, 6, 1286, 1543, 2056, 24, 25, 26, 29, 30...  \n",
       "10    [14, 18, 1179, 2336, 2337, 674, 548, 37, 44, 5...  \n",
       "11    [907, 911, 1554, 25, 26, 1180, 29, 30, 799, 92...  \n",
       "12    [1024, 1178, 283, 1180, 799, 928, 1192, 683, 1...  \n",
       "13    [641, 130, 387, 2693, 523, 18, 790, 22, 280, 1...  \n",
       "14    [98, 3684, 518, 1222, 1096, 1545, 108, 109, 78...  \n",
       "15    [6, 2325, 2072, 2073, 1050, 283, 25, 26, 29, 3...  \n",
       "16    [2048, 1286, 1543, 1163, 12, 1168, 1939, 280, ...  \n",
       "17    [3724, 2830, 143, 401, 19, 290, 3875, 2728, 43...  \n",
       "18    [6, 12, 143, 19, 1171, 38, 2728, 175, 310, 210...  \n",
       "19    [1024, 517, 518, 653, 401, 281, 283, 683, 46, ...  \n",
       "20    [0, 14, 1178, 668, 28, 799, 3360, 1192, 43, 12...  \n",
       "21    [1159, 18, 25, 665, 26, 29, 30, 35, 37, 1061, ...  \n",
       "22    [130, 6, 18, 22, 2456, 1178, 37, 38, 1192, 171...  \n",
       "23    [641, 523, 2063, 1176, 153, 25, 26, 1180, 29, ...  \n",
       "24    [18, 1178, 1180, 799, 928, 37, 1192, 171, 51, ...  \n",
       "25    [3, 4, 18, 24, 25, 26, 29, 30, 2077, 34, 35, 3...  \n",
       "26    [641, 1283, 523, 18, 153, 1056, 929, 162, 37, ...  \n",
       "27    [14, 2063, 789, 25, 26, 1179, 1178, 29, 30, 79...  \n",
       "28    [1024, 3458, 3337, 143, 19, 25, 26, 283, 1180,...  \n",
       "29    [641, 517, 1160, 523, 653, 18, 153, 25, 26, 29...  \n",
       "...                                                 ...  \n",
       "6010  [1024, 385, 0, 900, 908, 1166, 2072, 2073, 105...  \n",
       "6011                                                 []  \n",
       "6012  [0, 773, 655, 2072, 2073, 1050, 547, 1077, 197...  \n",
       "6013  [896, 902, 912, 3107, 2603, 686, 1072, 1840, 6...  \n",
       "6014  [0, 18, 2072, 2073, 1050, 37, 44, 47, 51, 62, ...  \n",
       "6015  [897, 2953, 907, 18, 1554, 25, 26, 29, 30, 799...  \n",
       "6016  [3339, 139, 18, 920, 793, 26, 25, 285, 30, 29,...  \n",
       "6017  [896, 385, 900, 518, 2951, 908, 1166, 1057, 10...  \n",
       "6018  [3200, 517, 653, 913, 25, 26, 668, 28, 29, 30,...  \n",
       "6019  [901, 518, 3336, 916, 3349, 918, 1055, 930, 33...  \n",
       "6020  [257, 18, 3352, 25, 26, 1176, 1178, 29, 30, 35...  \n",
       "6021  [0, 257, 387, 280, 2072, 26, 2073, 1050, 29, 3...  \n",
       "6022  [5, 518, 14, 143, 19, 1179, 2335, 2336, 2209, ...  \n",
       "6023  [1024, 3339, 14, 25, 26, 1179, 283, 285, 29, 3...  \n",
       "6024  [0, 773, 6, 655, 403, 2072, 2073, 1050, 1312, ...  \n",
       "6025  [257, 1159, 911, 912, 665, 25, 26, 1178, 29, 3...  \n",
       "6026  [6, 1807, 2064, 18, 1171, 2196, 1818, 283, 669...  \n",
       "6027  [1024, 262, 1545, 14, 788, 24, 283, 543, 161, ...  \n",
       "6028  [130, 3474, 659, 3476, 3477, 22, 25, 26, 29, 3...  \n",
       "6029  [1024, 2048, 1539, 1286, 1159, 1543, 912, 3348...  \n",
       "6030  [2048, 1024, 388, 1286, 1543, 7, 144, 1556, 28...  \n",
       "6031  [385, 898, 900, 773, 901, 908, 1166, 655, 24, ...  \n",
       "6032  [1539, 518, 3335, 788, 1176, 25, 26, 29, 30, 5...  \n",
       "6033  [3265, 930, 162, 280, 901, 1575, 1163, 1228, 1...  \n",
       "6034  [256, 387, 1159, 147, 21, 280, 665, 287, 2338,...  \n",
       "6035  [1024, 130, 4, 773, 655, 18, 22, 283, 2590, 68...  \n",
       "6036  [898, 912, 3107, 2603, 686, 1840, 1468, 60, 12...  \n",
       "6037  [0, 385, 900, 908, 1166, 18, 24, 3360, 34, 37,...  \n",
       "6038  [3, 901, 6, 904, 2968, 930, 38, 44, 686, 3637,...  \n",
       "6039  [385, 900, 901, 6, 904, 908, 1166, 790, 930, 3...  \n",
       "\n",
       "[6040 rows x 8 columns]"
      ]
     },
     "execution_count": 79,
     "metadata": {},
     "output_type": "execute_result"
    }
   ],
   "source": [
    "users"
   ]
  }
 ],
 "metadata": {
  "colab": {
   "collapsed_sections": [],
   "name": "project_internship_mle.ipynb",
   "provenance": [],
   "toc_visible": true
  },
  "kernelspec": {
   "display_name": "Python 3",
   "language": "python",
   "name": "python3"
  },
  "language_info": {
   "codemirror_mode": {
    "name": "ipython",
    "version": 3
   },
   "file_extension": ".py",
   "mimetype": "text/x-python",
   "name": "python",
   "nbconvert_exporter": "python",
   "pygments_lexer": "ipython3",
   "version": "3.6.5"
  }
 },
 "nbformat": 4,
 "nbformat_minor": 4
}
